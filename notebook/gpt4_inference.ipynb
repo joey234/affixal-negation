{
 "cells": [
  {
   "cell_type": "code",
   "execution_count": null,
   "id": "5fcdefb5-4f23-45b7-b306-75bf285a5220",
   "metadata": {},
   "outputs": [],
   "source": [
    "import openai\n",
    "import pandas as pd\n",
    "import os"
   ]
  },
  {
   "cell_type": "code",
   "execution_count": null,
   "id": "0a399ea0-a5ef-4560-be78-d56ac082e391",
   "metadata": {},
   "outputs": [],
   "source": [
    "# openai.api_key = "
   ]
  },
  {
   "cell_type": "code",
   "execution_count": null,
   "id": "f0ab554b-13a2-4ce8-a9d5-ec793df6f723",
   "metadata": {},
   "outputs": [],
   "source": [
    "MODEL = \"gpt-4\""
   ]
  },
  {
   "cell_type": "code",
   "execution_count": null,
   "id": "c825fe66-70f7-46c0-8f0e-5d43bcb79678",
   "metadata": {},
   "outputs": [],
   "source": [
    "from tenacity import retry, stop_after_attempt, wait_chain, wait_fixed"
   ]
  },
  {
   "cell_type": "code",
   "execution_count": null,
   "id": "6680d728-3ab8-4a83-95c2-9cba18ca28ca",
   "metadata": {},
   "outputs": [],
   "source": [
    "@retry(wait=wait_chain(*[wait_fixed(3) for i in range(3)] +\n",
    "                       [wait_fixed(5) for i in range(2)] +\n",
    "                       [wait_fixed(10)]))\n",
    "def completion_with_backoff(**kwargs):\n",
    "    return openai.ChatCompletion.create(**kwargs)"
   ]
  },
  {
   "cell_type": "code",
   "execution_count": null,
   "id": "c8b7c71e-2ad5-4ee8-8e27-38a8511027d0",
   "metadata": {},
   "outputs": [],
   "source": [
    "def format_prompt(word):\n",
    "    instruction = '''A word contains negation if it has a negated meaning, usually expressed through a negative prefix (such as un, in) or suffix (such as less).\\n\\nThe word unwell contains negation. True or False?\\nAnswer: True\\nExplanation: unwell is created by prepending the root word well with the negative prefix un.\\n\\nThe word uniform contains negation. True or False?\\nAnswer: False\\nExplanation: uniform just coincidentally starts with un.\\n\\nBe concise and only answer with the given options.\\n\\n'''\n",
    "    prompt = \"The word \"+ word + \" contains negation.\"+ \" True or False?\\nAnswer:\"\n",
    "    message = instruction + prompt\n",
    "    message = prompt\n",
    "    \n",
    "    messages = [\n",
    "        {\"role\": \"system\", \"content\": 'Be precise and only answer with the given options.'},\n",
    "        {\"role\": \"user\", \"content\": message},\n",
    "    ]\n",
    "    return messages"
   ]
  },
  {
   "cell_type": "code",
   "execution_count": null,
   "id": "0c1530fd-7212-4eab-854f-14075b039a19",
   "metadata": {},
   "outputs": [],
   "source": [
    "def request(samples):\n",
    "    ret = []\n",
    "    for sample in tqdm(samples):\n",
    "        messages = format_prompt(sample)\n",
    "        response = completion_with_backoff(\n",
    "            model=MODEL,\n",
    "            messages= messages,\n",
    "            temperature=0,\n",
    "        )\n",
    "        ans_model = response['choices'][0]['message']['content']\n",
    "        # print(messages)\n",
    "        print(sample, ans_model)\n",
    "        ret.append([sample, ans_model])\n",
    "        # print(ans_model)\n",
    "        # print('===================')\n",
    "    return ret"
   ]
  },
  {
   "cell_type": "code",
   "execution_count": null,
   "id": "bc325509-b124-4396-9f69-255726a31c2c",
   "metadata": {},
   "outputs": [],
   "source": [
    "from datasets import load_dataset"
   ]
  },
  {
   "cell_type": "code",
   "execution_count": null,
   "id": "9e3802ad-ac19-4b82-a1fb-e5a15f3d9446",
   "metadata": {},
   "outputs": [],
   "source": [
    "dataset = load_dataset('joey234/affixal_negation')"
   ]
  },
  {
   "cell_type": "code",
   "execution_count": null,
   "id": "3d54825f-d603-44fa-9aec-5b443715e791",
   "metadata": {},
   "outputs": [],
   "source": [
    "words = dataset['train']['word']"
   ]
  },
  {
   "cell_type": "code",
   "execution_count": null,
   "id": "f110b0af-c8e9-4f88-ad2a-b02273d017cc",
   "metadata": {},
   "outputs": [],
   "source": [
    "neg_words = []\n",
    "labels = []"
   ]
  },
  {
   "cell_type": "code",
   "execution_count": null,
   "id": "31cfa245-07ca-40e1-80b8-8d4985d6ac18",
   "metadata": {},
   "outputs": [],
   "source": [
    "for i, word in enumerate(words):\n",
    "    if dataset['train']['hyphen'][i] == '-':\n",
    "        continue\n",
    "    else:\n",
    "        words[i] = dataset['train']['hyphen'][i]\n",
    "        neg_words.append(dataset['train']['hyphen'][i])\n",
    "        labels.append(dataset['train']['label'][i])"
   ]
  },
  {
   "cell_type": "code",
   "execution_count": null,
   "id": "f49386bc-d0dc-4dd8-9ce5-2dff1376b15d",
   "metadata": {},
   "outputs": [],
   "source": [
    "neg_words[:10]"
   ]
  },
  {
   "cell_type": "code",
   "execution_count": null,
   "id": "d4763a18-e2b1-46f5-8a38-a1a36477abd9",
   "metadata": {},
   "outputs": [],
   "source": [
    "ret_neg = request(neg_words)"
   ]
  },
  {
   "cell_type": "code",
   "execution_count": null,
   "id": "d354dc94-35c6-4649-a51e-d3c4e848c4fc",
   "metadata": {},
   "outputs": [],
   "source": [
    "len(words)"
   ]
  },
  {
   "cell_type": "code",
   "execution_count": null,
   "id": "4c444163-e0fd-48d5-9e20-7a75019e792d",
   "metadata": {},
   "outputs": [],
   "source": [
    "df_gpt4_pred_hyphen_neg = pd.DataFrame( data = {'word': neg_words, 'pred': [x[1] for x in ret_neg], 'gold': labels})"
   ]
  },
  {
   "cell_type": "code",
   "execution_count": null,
   "id": "af3e3ced-3a5d-4b47-ab33-27a912071773",
   "metadata": {},
   "outputs": [],
   "source": [
    "df_gpt4_pred_hyphen_neg['pred'] = df_gpt4_pred_hyphen_neg['pred'].map(lambda x: labelmap[x])"
   ]
  },
  {
   "cell_type": "code",
   "execution_count": null,
   "id": "7f2bf22e-d6e6-438c-bbd2-6c86329f8b2d",
   "metadata": {},
   "outputs": [],
   "source": [
    "len(df_gpt4_pred_hyphen_neg[df_gpt4_pred_hyphen_neg['pred'] == df_gpt4_pred_hyphen_neg['gold']]) / len(df_gpt4_pred_hyphen_neg)"
   ]
  },
  {
   "cell_type": "code",
   "execution_count": null,
   "id": "56507add-1b83-4e2d-8064-65bf47b20333",
   "metadata": {},
   "outputs": [],
   "source": [
    "ret_values = []\n",
    "for i,pred in enumerate(ret):\n",
    "    pred_value = pred[1].split('\\n')[0]\n",
    "    ret_values.append([pred[0], pred_value])"
   ]
  },
  {
   "cell_type": "code",
   "execution_count": null,
   "id": "e7f97c5d-bd8c-446f-8683-31fc1b3c1a7b",
   "metadata": {},
   "outputs": [],
   "source": [
    "len(ret_values)"
   ]
  },
  {
   "cell_type": "code",
   "execution_count": null,
   "id": "3404dbeb-4425-489c-a271-56e6abd56c71",
   "metadata": {},
   "outputs": [],
   "source": [
    "ret_values == ret"
   ]
  },
  {
   "cell_type": "code",
   "execution_count": null,
   "id": "d7faaab9-e2c5-4f25-b900-ddb241d97087",
   "metadata": {},
   "outputs": [],
   "source": [
    "df = pd.DataFrame(data = {'word': dataset['train']['word'], 'pred': [x[1] for x in ret_values], 'gold': dataset['train']['label']})"
   ]
  },
  {
   "cell_type": "code",
   "execution_count": null,
   "id": "3ebbcddd-5da5-401d-9224-edc395cdbdda",
   "metadata": {},
   "outputs": [],
   "source": [
    "df"
   ]
  },
  {
   "cell_type": "code",
   "execution_count": null,
   "id": "9ef9d58a-e5a0-42c9-b5f7-32c85c766070",
   "metadata": {},
   "outputs": [],
   "source": [
    "labelmap = {'False':1, 'True':0}"
   ]
  },
  {
   "cell_type": "code",
   "execution_count": null,
   "id": "9ec22ff0-dd30-484c-bfe6-54c4226ca7c1",
   "metadata": {},
   "outputs": [],
   "source": [
    "rows = []\n",
    "for i,row in df.iterrows():\n",
    "    if row['pred'] not in [\"True\", \"False\"]:\n",
    "        row['pred'] = \"False\"\n",
    "    rows.append(row)\n",
    "df = pd.DataFrame(data = rows)\n",
    "# df[df['pred'] == \"Without providing a specific word, it's impossible to determine whether this statement is true or false.\"]['pred'] = False"
   ]
  },
  {
   "cell_type": "code",
   "execution_count": null,
   "id": "6ffd3cd6-c4a1-4769-80d4-6042db91018a",
   "metadata": {},
   "outputs": [],
   "source": [
    "df['pred'] = df['pred'].map(lambda x: labelmap[x])"
   ]
  },
  {
   "cell_type": "code",
   "execution_count": null,
   "id": "36c17b35-db1b-41ce-b429-b94f0e71d2eb",
   "metadata": {},
   "outputs": [],
   "source": [
    "df.to_csv('gpt4_pred_hyphen.csv', index = None)"
   ]
  },
  {
   "cell_type": "code",
   "execution_count": null,
   "id": "02cadd3f-ee85-40b2-9c42-2a3101bbc26a",
   "metadata": {},
   "outputs": [],
   "source": [
    "df = pd.read_csv('gpt4_zero_pred.csv')"
   ]
  },
  {
   "cell_type": "code",
   "execution_count": null,
   "id": "2405457e-007e-457a-baed-13ff59d5787e",
   "metadata": {},
   "outputs": [],
   "source": [
    "df"
   ]
  },
  {
   "cell_type": "code",
   "execution_count": null,
   "id": "59f66593-d2a8-4070-be08-eff33d314f1e",
   "metadata": {},
   "outputs": [],
   "source": [
    "len(df[df['pred'] == df['gold']])/len(df)"
   ]
  },
  {
   "cell_type": "code",
   "execution_count": null,
   "id": "378adb30-05b0-47b1-8109-b1095f0eda16",
   "metadata": {},
   "outputs": [],
   "source": [
    "df_neg = df[df['gold'] == 0]\n",
    "len(df_neg[df_neg['pred'] == df_neg['gold']])/len(df_neg)"
   ]
  },
  {
   "cell_type": "code",
   "execution_count": null,
   "id": "9338c2ad-129a-45c0-b6ee-f25305d6b097",
   "metadata": {},
   "outputs": [],
   "source": [
    "df_pos = df[df['gold'] == 1]\n",
    "len(df_pos[df_pos['pred'] == df_pos['gold']])/len(df_pos)"
   ]
  },
  {
   "cell_type": "code",
   "execution_count": null,
   "id": "58ded365-c7ef-46f4-98f6-8d344add8a84",
   "metadata": {},
   "outputs": [],
   "source": [
    "hyphens = dataset['train']['hyphen']"
   ]
  },
  {
   "cell_type": "code",
   "execution_count": null,
   "id": "e5b923a2-3825-481c-b22d-bceefe85960c",
   "metadata": {},
   "outputs": [],
   "source": [
    "hyphens = list(set(hyphens))"
   ]
  },
  {
   "cell_type": "code",
   "execution_count": null,
   "id": "6b418e35-f283-45c2-acdd-baf10076f595",
   "metadata": {},
   "outputs": [],
   "source": [
    "len(hyphens)"
   ]
  },
  {
   "cell_type": "code",
   "execution_count": null,
   "id": "d3182cab-590b-4771-8c61-c733813a0d0d",
   "metadata": {},
   "outputs": [],
   "source": [
    "hyphens.remove('-')"
   ]
  },
  {
   "cell_type": "code",
   "execution_count": null,
   "id": "b857f417-1ca3-4f5e-9f95-c69662f2aaf4",
   "metadata": {},
   "outputs": [],
   "source": [
    "len(hyphens)"
   ]
  },
  {
   "cell_type": "code",
   "execution_count": null,
   "id": "50f28cb0-2552-450b-a9f2-1bcd0e623902",
   "metadata": {},
   "outputs": [],
   "source": [
    "ret_values = []\n",
    "for i,pred in enumerate(ret):\n",
    "    pred_value = pred[1].split('\\n')[0]\n",
    "    ret_values.append([pred[0], pred_value])"
   ]
  },
  {
   "cell_type": "code",
   "execution_count": null,
   "id": "0f783029-dafe-4630-ac42-100a33dd8d4d",
   "metadata": {},
   "outputs": [],
   "source": [
    "len(ret_values)"
   ]
  },
  {
   "cell_type": "code",
   "execution_count": null,
   "id": "64c676df-adde-4982-917a-c0765d910f2f",
   "metadata": {},
   "outputs": [],
   "source": [
    "len(ret)"
   ]
  },
  {
   "cell_type": "code",
   "execution_count": null,
   "id": "6700d84c-4dc7-4a30-8d85-a2439bbbc399",
   "metadata": {},
   "outputs": [],
   "source": [
    "correct = 0\n",
    "for pred in ret_values:\n",
    "    if pred[1] == 'True':\n",
    "        correct+=1\n",
    "print(correct/len(ret))"
   ]
  },
  {
   "cell_type": "code",
   "execution_count": null,
   "id": "2534235a-6ceb-43cc-99f2-5e3a43b745a3",
   "metadata": {},
   "outputs": [],
   "source": []
  },
  {
   "cell_type": "code",
   "execution_count": null,
   "id": "74ba0e1a-728b-4b7f-8a78-181a44ff15bf",
   "metadata": {},
   "outputs": [],
   "source": [
    "df = pd.DataFrame(data = {'word': dataset['train']['word'], 'pred': [x[1] for x in ret], 'gold': dataset['train']['label']})"
   ]
  },
  {
   "cell_type": "code",
   "execution_count": null,
   "id": "71408a99-8750-443f-bd6b-66c34aea0319",
   "metadata": {},
   "outputs": [],
   "source": [
    "df"
   ]
  },
  {
   "cell_type": "code",
   "execution_count": null,
   "id": "e7869488-e6ab-4c5b-b20b-edfd800045e3",
   "metadata": {},
   "outputs": [],
   "source": [
    "labelmap = {'False':1, 'True':0}"
   ]
  },
  {
   "cell_type": "code",
   "execution_count": null,
   "id": "c30a7c9b-cd2e-480c-bf56-37d01cfd36d0",
   "metadata": {},
   "outputs": [],
   "source": [
    "df['pred'] = df['pred'].map(lambda x: labelmap[x])"
   ]
  },
  {
   "cell_type": "code",
   "execution_count": null,
   "id": "88d8579e-b97c-44c6-8057-9ad8e3f3cedb",
   "metadata": {},
   "outputs": [],
   "source": [
    "len(df[df['pred'] == df['gold']])/len(df)"
   ]
  },
  {
   "cell_type": "code",
   "execution_count": null,
   "id": "883cc475-19fc-4671-af7f-feb5c271937e",
   "metadata": {},
   "outputs": [],
   "source": [
    "df.to_csv('gpt4_pred.csv', index = None)"
   ]
  },
  {
   "cell_type": "code",
   "execution_count": null,
   "id": "e5929767-437d-40b0-a003-b9d1e2010c3e",
   "metadata": {},
   "outputs": [],
   "source": [
    "df = pd.read_csv('gpt4_pred.csv')"
   ]
  },
  {
   "cell_type": "code",
   "execution_count": null,
   "id": "bb5db9a9-1be9-450d-ad63-90e40816dc8c",
   "metadata": {},
   "outputs": [],
   "source": [
    "len(df[df['pred'] == df['gold']])/len(df)"
   ]
  },
  {
   "cell_type": "code",
   "execution_count": null,
   "id": "354ebcb7-ac60-4dd3-acec-7091271dbede",
   "metadata": {},
   "outputs": [],
   "source": [
    "df_neg = df[df['gold'] == 0]\n",
    "len(df_neg[df_neg['pred'] == df_neg['gold']])/len(df_neg)"
   ]
  },
  {
   "cell_type": "code",
   "execution_count": null,
   "id": "cc9edc44-9670-4a28-a2d3-7a809ba14d32",
   "metadata": {},
   "outputs": [],
   "source": [
    "df_pos = df[df['gold'] == 1]\n",
    "len(df_pos[df_pos['pred'] == df_pos['gold']])/len(df_pos)"
   ]
  },
  {
   "cell_type": "code",
   "execution_count": null,
   "id": "fff9fba9-dbe2-4ea6-9355-efec9baa80cc",
   "metadata": {},
   "outputs": [],
   "source": [
    "df"
   ]
  },
  {
   "cell_type": "code",
   "execution_count": null,
   "id": "58dc1e9e-46b2-4d80-8ff0-bf1db02155ad",
   "metadata": {},
   "outputs": [],
   "source": [
    "original_df = pd.read_csv('tokenized_data.csv')"
   ]
  },
  {
   "cell_type": "code",
   "execution_count": null,
   "id": "26d2e3e7-9ee1-43c8-938e-030a393b4fc7",
   "metadata": {},
   "outputs": [],
   "source": [
    "original_df"
   ]
  },
  {
   "cell_type": "code",
   "execution_count": null,
   "id": "257f977c-1d0b-4d54-ba0f-60bb912730f7",
   "metadata": {},
   "outputs": [],
   "source": []
  },
  {
   "cell_type": "code",
   "execution_count": null,
   "id": "e2aae2a8-7d21-45b1-9dad-7124d2f47821",
   "metadata": {},
   "outputs": [],
   "source": [
    "gpt4_df = original_df[original_df['tokenizer']=='cl100k_base']\n",
    "flan_df = original_df[original_df['tokenizer']=='google/flan-t5-xxl']\n",
    "llama2_df = original_df[original_df['tokenizer']=='meta-llama/Llama-2-13b-chat-hf']\n"
   ]
  },
  {
   "cell_type": "code",
   "execution_count": null,
   "id": "d6d87751-552b-4f4f-ad98-57ca639af3c8",
   "metadata": {},
   "outputs": [],
   "source": [
    "gpt4_pred = pd.read_csv('gpt4_pred.csv')"
   ]
  },
  {
   "cell_type": "code",
   "execution_count": null,
   "id": "2a43dc90-ba0b-4a26-96b6-05667d6df152",
   "metadata": {},
   "outputs": [],
   "source": [
    "flan_pred = pd.read_csv('flant5_pred.csv')\n",
    "llama2_pred = pd.read_csv('llama2_pred.csv')"
   ]
  },
  {
   "cell_type": "code",
   "execution_count": null,
   "id": "4957182e-d089-491c-a2cd-a446caf0acfd",
   "metadata": {},
   "outputs": [],
   "source": [
    "rows = []\n",
    "for i,row in gpt4_df.iterrows():\n",
    "    row['Predict'] = gpt4_pred.loc[gpt4_pred['word'] == row['neg_word']]['pred'].values[0]\n",
    "    # print(row['neg_word'], row['Predict'])\n",
    "    rows.append(row)\n",
    "\n",
    "for i,row in flan_df.iterrows():\n",
    "    row['Predict'] = flan_pred.loc[flan_pred['word'] == row['neg_word']]['pred'].values[0]\n",
    "    # print(row['neg_word'], row['Predict'])\n",
    "    rows.append(row)\n",
    "\n",
    "\n",
    "for i,row in llama2_df.iterrows():\n",
    "    row['Predict'] = llama2_pred.loc[llama2_pred['word'] == row['neg_word']]['pred'].values[0]\n",
    "    # print(row['neg_word'], row['Predict'])\n",
    "    rows.append(row)"
   ]
  },
  {
   "cell_type": "code",
   "execution_count": null,
   "id": "d158f5ba-e2f2-4135-b8bf-9309bb27efe5",
   "metadata": {},
   "outputs": [],
   "source": [
    "df_results = pd.DataFrame(data = rows)"
   ]
  },
  {
   "cell_type": "code",
   "execution_count": null,
   "id": "16f0c97a-d87e-40c8-a86e-51e007de9533",
   "metadata": {},
   "outputs": [],
   "source": [
    "df_results"
   ]
  },
  {
   "cell_type": "code",
   "execution_count": null,
   "id": "08212569-4207-49c0-9bee-e598a0ee9f2f",
   "metadata": {},
   "outputs": [],
   "source": [
    "df_results['soft_neg_correct'].unique()"
   ]
  },
  {
   "cell_type": "code",
   "execution_count": null,
   "id": "8ca420d7-9c15-4a72-bf6c-1cdd111d5b49",
   "metadata": {},
   "outputs": [],
   "source": [
    "temps = []\n",
    "for i,row in df_results.iterrows():\n",
    "    if row['neg_correct'] == 'Not segmented':\n",
    "        row['NegMorph'] = 'Under-segmented'\n",
    "    elif row['neg_correct'] == 'Correct':\n",
    "        row['NegMorph'] = 'Correct'\n",
    "    elif row['soft_neg_correct'] == 'Incorrect':\n",
    "        row['NegMorph'] = 'Over-segmented'\n",
    "    elif row['soft_neg_correct'] == 'Correct' and row['neg_correct'] == 'Incorrect':\n",
    "        row['NegMorph'] = 'Under-segmented'\n",
    "    temps.append(row)\n",
    "df_results = pd.DataFrame(data = temps)"
   ]
  },
  {
   "cell_type": "code",
   "execution_count": null,
   "id": "df6ba3eb-cc6a-4bcf-9169-ba48a7266b77",
   "metadata": {},
   "outputs": [],
   "source": [
    "df_results['NegMorph'].unique()"
   ]
  },
  {
   "cell_type": "code",
   "execution_count": null,
   "id": "7268a8f1-2de2-429d-bc65-cdd0a9041f71",
   "metadata": {},
   "outputs": [],
   "source": [
    "# Calculate the total count for each 'tokenizer_type'                                                                                                     \n",
    "total_count = df_results['NegMorph'].value_counts()                                                                                                         \n",
    "                                                                                                                                                        \n",
    "# Calculate the count for each 'tokenizer_type' and 'correct' combination                                                                                 \n",
    "correct_count = df_results[df_results['Predict'] == 0]['NegMorph'].value_counts()                                                                                \n",
    "incorrect_count = df_results[df_results['Predict'] == 1]['NegMorph'].value_counts()                                                                             \n",
    "                                                                                                     \n",
    "# Calculate the percentage                                                                                                                                \n",
    "percentage_correct = correct_count / total_count * 100                                                                                                    \n",
    "percentage_incorrect = incorrect_count / total_count * 100                                                                                                \n",
    "                                                                                                                                                        \n",
    "percentage_correct, percentage_incorrect"
   ]
  },
  {
   "cell_type": "code",
   "execution_count": null,
   "id": "94d862e6-e0c4-4ab4-b307-d79c4555a69b",
   "metadata": {},
   "outputs": [],
   "source": [
    "import matplotlib.pyplot as plt                                                                                                                           \n",
    "import seaborn as sns                                                                                                                                     \n"
   ]
  },
  {
   "cell_type": "code",
   "execution_count": null,
   "id": "e0e14e2e-8076-4478-8647-d8b20386ec32",
   "metadata": {},
   "outputs": [],
   "source": [
    "# df_results['NegMorph'] \n",
    "# df_error = df_results[df_results['Predict'] == 1]\n",
    "# order = ['Correct', 'Over-segmented', 'Under-segmented']\n",
    "g = sns.barplot(\n",
    "    data=df_results,\n",
    "    x=\"tokenizer\", y=\"Predict\" ,hue= 'NegMorph', palette = ['g', '#bcbd22', '#d62728'], alpha = 1, errorbar = None, width = 0.6\n",
    ")\n",
    "g.set_ylabel(\"Error Rate\")\n",
    "g.set_xlabel(\"\")\n",
    "\n",
    "g.set_xticklabels([\"GPT-4\", \"Flan-T5-xxl\", \"Llama2-13B\"])\n",
    "# g.legend\n",
    "g.legend_.set_title('NegMorph')\n",
    "plt.tight_layout()\n",
    "\n",
    "fig = g.get_figure()\n",
    "sns.despine(fig)\n",
    "\n",
    "fig.savefig(\"negmorph_dist.pdf\") "
   ]
  },
  {
   "cell_type": "code",
   "execution_count": null,
   "id": "1afe139a-edc4-48fd-aa82-4282ced96f6a",
   "metadata": {},
   "outputs": [],
   "source": [
    "df"
   ]
  },
  {
   "cell_type": "code",
   "execution_count": null,
   "id": "b5fa6e20-88f3-4a29-8ccb-0b946df9d15a",
   "metadata": {},
   "outputs": [],
   "source": [
    "rows = []\n",
    "for i, row in df_results.iterrows():\n",
    "    if row['neg_correct'] == 'Not segmented':\n",
    "        row['soft_neg_correct'] = 'Not segmented'\n",
    "    rows.append(row)\n",
    "df_results = pd.DataFrame(data = rows)"
   ]
  },
  {
   "cell_type": "code",
   "execution_count": null,
   "id": "30787ff6-d4ec-4505-8804-3d2805c7af61",
   "metadata": {},
   "outputs": [],
   "source": []
  },
  {
   "cell_type": "code",
   "execution_count": null,
   "id": "f54d1546-486b-4fd6-a660-6f3cf1763061",
   "metadata": {},
   "outputs": [],
   "source": [
    "temps = []\n",
    "for i,row in df_results.iterrows():\n",
    "    if row['soft_neg_correct'] == 'Not segmented':\n",
    "        row['NegMorph'] = 'Not segmented'\n",
    "    elif row['neg_correct'] == 'Correct':\n",
    "        row['NegMorph'] = 'Correct'\n",
    "    elif row['soft_neg_correct'] == 'Incorrect':\n",
    "        row['NegMorph'] = 'Over-segmented'\n",
    "    elif row['soft_neg_correct'] == 'Correct' and row['neg_correct'] == 'Incorrect':\n",
    "        row['NegMorph'] = 'Under-segmented'\n",
    "    temps.append(row)"
   ]
  },
  {
   "cell_type": "code",
   "execution_count": null,
   "id": "2e4464a5-9b8c-439d-9d20-143183594d40",
   "metadata": {},
   "outputs": [],
   "source": [
    "df_results = pd.DataFrame(data = temps)"
   ]
  },
  {
   "cell_type": "code",
   "execution_count": null,
   "id": "9ad9e00b-6606-44a9-92fa-65daff52acb9",
   "metadata": {},
   "outputs": [],
   "source": []
  },
  {
   "cell_type": "code",
   "execution_count": null,
   "id": "a38d9d96-8bdb-4d2a-85ce-b012443dc613",
   "metadata": {},
   "outputs": [],
   "source": [
    "df_error = df_results[df_results['Predict'] == 1]"
   ]
  },
  {
   "cell_type": "code",
   "execution_count": null,
   "id": "df635b6b-d09a-43c3-a61a-f4c43f564d0b",
   "metadata": {},
   "outputs": [],
   "source": [
    "df_error"
   ]
  },
  {
   "cell_type": "code",
   "execution_count": null,
   "id": "57fbe896-df03-473f-86d5-609f96eba5c0",
   "metadata": {},
   "outputs": [],
   "source": [
    "df_results.to_csv('results.csv')"
   ]
  },
  {
   "cell_type": "code",
   "execution_count": null,
   "id": "686ed4d0-00ce-49d0-8a73-112f79cc28ef",
   "metadata": {},
   "outputs": [],
   "source": [
    "import seaborn as sns"
   ]
  },
  {
   "cell_type": "code",
   "execution_count": null,
   "id": "bb297b95-e41e-49b3-a1c9-77ef37ed454a",
   "metadata": {},
   "outputs": [],
   "source": [
    "order = ['Correct', 'Over-segmented', 'Under-segmented', 'Not segmented']"
   ]
  },
  {
   "cell_type": "code",
   "execution_count": null,
   "id": "d7d4859f-4095-40fd-9785-210ca73bdb66",
   "metadata": {},
   "outputs": [],
   "source": [
    "g = sns.barplot(\n",
    "    data=df_results,\n",
    "    x=\"tokenizer\", y=\"Predict\" ,hue= 'NegMorph', palette = ['#1f77b4','orange', 'gold', '#d62728'], alpha = 1, errorbar = None,\n",
    "    hue_order = order\n",
    ")\n",
    "g.set_ylabel(\"Error Rate\")\n",
    "g.set_xlabel(\"\")\n",
    "\n",
    "g.set_xticklabels([\"GPT-4\", \"Flan-T5-xxl\", \"LlaMa2-13B\"])\n",
    "# g.legend\n",
    "g.legend_.set_title('NegMorph')\n",
    "fig = g.get_figure()\n",
    "fig.savefig(\"negmorph_finegrained_dist.pdf\") \n"
   ]
  },
  {
   "cell_type": "code",
   "execution_count": null,
   "id": "d8c818d8-2e1c-4322-b906-f980f4921dfe",
   "metadata": {},
   "outputs": [],
   "source": []
  },
  {
   "cell_type": "code",
   "execution_count": null,
   "id": "3e206896-6476-4c44-91f8-e9a098dc7c83",
   "metadata": {},
   "outputs": [],
   "source": [
    "from tqdm import tqdm"
   ]
  },
  {
   "cell_type": "code",
   "execution_count": null,
   "id": "0395c5fe-7378-43f6-b5c1-df2c66991fed",
   "metadata": {},
   "outputs": [],
   "source": [
    "def format_prompt_sentiment(word):\n",
    "    # instruction = '''A word contains negation if it has a negated meaning, usually expressed through a negative prefix (such as un, in) or suffix (such as less).\\n\\nThe word unwell contains negation. True or False?\\nAnswer: True\\nExplanation: unwell is created by prepending the root word well with the negative prefix un.\\n\\nThe word uniform contains negation. True or False?\\nAnswer: False\\nExplanation: uniform just coincidentally starts with un.\\n\\nBe concise and only answer with the given options.\\n\\n'''\n",
    "    fewshot_context = '''The sentiment of the word amazing is positive, negative, or neutral?\\nAnswer: positive\\n\\nThe sentiment of the word bored is positive, negative, or neutral?\\nAnswer: negative\\n\\nThe sentiment of the word intended is positive, negative, or neutral?\\nAnswer: neutral\\n\\n'''\n",
    "    prompt = fewshot_context + \"The sentiment of the word \"+ word + \" is positive, negative, or neutral?\\nAnswer:\"\n",
    "    # message = instruction + prompt\n",
    "    message = prompt\n",
    "    \n",
    "    messages = [\n",
    "        # {\"role\": \"system\", \"content\": 'Be precise and only answer with the given options.'},\n",
    "        {\"role\": \"user\", \"content\": message},\n",
    "    ]\n",
    "    return messages"
   ]
  },
  {
   "cell_type": "code",
   "execution_count": null,
   "id": "b3a9b73f-4ec9-4e79-a137-21f9c61cc319",
   "metadata": {},
   "outputs": [],
   "source": [
    "def request_sentiment(samples):\n",
    "    ret = []\n",
    "    for sample in tqdm(samples):\n",
    "        messages = format_prompt_sentiment(sample)\n",
    "        response = completion_with_backoff(\n",
    "            model=MODEL,\n",
    "            messages= messages,\n",
    "            temperature=0,\n",
    "        )\n",
    "        ans_model = response['choices'][0]['message']['content']\n",
    "        # print(messages)\n",
    "        # print(sample, ans_model)\n",
    "        ret.append([sample, ans_model])\n",
    "        # print(ans_model)\n",
    "        # print('===================')\n",
    "    return ret"
   ]
  },
  {
   "cell_type": "code",
   "execution_count": null,
   "id": "ec5ba363-4ddb-4667-9e89-0ab9d19e8d78",
   "metadata": {},
   "outputs": [],
   "source": [
    "def format_prompt_sentiment_sentence(sentence):\n",
    "    prompt =  sentence+\"\\nQuestion: Is this review positive or negative?\\nAnswer:\"\n",
    "    message = prompt\n",
    "    \n",
    "    messages = [\n",
    "        {\"role\": \"system\", \"content\": 'Be precise and only answer with the given options: Positive or Negative. In case it is unclear, answer with the more likely option.'},\n",
    "        {\"role\": \"user\", \"content\": message},\n",
    "    ]\n",
    "    return messages"
   ]
  },
  {
   "cell_type": "code",
   "execution_count": null,
   "id": "0f2930cb-7ebf-4231-b578-071ccf07a118",
   "metadata": {},
   "outputs": [],
   "source": [
    "def request_sentiment_sentence(samples):\n",
    "    ret = []\n",
    "    for sample in tqdm(samples):\n",
    "        messages = format_prompt_sentiment_sentence(sample)\n",
    "        response = completion_with_backoff(\n",
    "            model=MODEL,\n",
    "            messages= messages,\n",
    "            temperature=0,\n",
    "        )\n",
    "        ans_model = response['choices'][0]['message']['content']\n",
    "        print(messages)\n",
    "        # print(sample, ans_model)\n",
    "        ret.append([sample, ans_model])\n",
    "        # print(ans_model)\n",
    "        # print('===================')\n",
    "    return ret"
   ]
  },
  {
   "cell_type": "code",
   "execution_count": null,
   "id": "118c459d-7089-4c5a-97ef-d740a00813da",
   "metadata": {},
   "outputs": [],
   "source": [
    "from datasets import load_dataset"
   ]
  },
  {
   "cell_type": "code",
   "execution_count": null,
   "id": "5c3b7919-3516-4ee8-8ad0-585be8ec5977",
   "metadata": {},
   "outputs": [],
   "source": [
    "dataset = load_dataset('joey234/rotten_tomatoes_affix_neg')"
   ]
  },
  {
   "cell_type": "code",
   "execution_count": null,
   "id": "7c1196fe-3a6a-49d3-96ae-54b8177d6207",
   "metadata": {},
   "outputs": [],
   "source": [
    "sentences = dataset['test']['text']"
   ]
  },
  {
   "cell_type": "code",
   "execution_count": null,
   "id": "22b8bedc-2c9b-48a3-a142-afd5277cfd6e",
   "metadata": {},
   "outputs": [],
   "source": [
    "len(sentences)"
   ]
  },
  {
   "cell_type": "code",
   "execution_count": null,
   "id": "c5feef10-759e-47d9-8c4a-fd6888201926",
   "metadata": {},
   "outputs": [],
   "source": [
    "ret = request_sentiment_sentence(sentences)"
   ]
  },
  {
   "cell_type": "code",
   "execution_count": null,
   "id": "e156605f-f223-4a9e-ac97-86b495fd8a53",
   "metadata": {},
   "outputs": [],
   "source": [
    "for x in ret:\n",
    "    if x[1] not in ['Positive','Negative']:\n",
    "        print(x)"
   ]
  },
  {
   "cell_type": "code",
   "execution_count": null,
   "id": "d197dfba-5ace-407e-807c-4432be7adf15",
   "metadata": {},
   "outputs": [],
   "source": [
    "gpt4_rt_affix = pd.DataFrame(data = {'word': dataset['test']['text'], 'pred': [x[1] for x in ret], 'gold': dataset['test']['label']})"
   ]
  },
  {
   "cell_type": "code",
   "execution_count": null,
   "id": "4b97a1f0-9be4-4025-96bd-6b6ae5fbb22c",
   "metadata": {},
   "outputs": [],
   "source": [
    "labelmap = {'Positive':1, 'Negative':0, 'Neutral':2 ,'Unclear':3}"
   ]
  },
  {
   "cell_type": "code",
   "execution_count": null,
   "id": "479c5bbc-df53-42d6-a843-124533f1704a",
   "metadata": {},
   "outputs": [],
   "source": [
    "gpt4_rt_affix['pred'] = gpt4_rt_affix['pred'].map(lambda x: labelmap[x])"
   ]
  },
  {
   "cell_type": "code",
   "execution_count": null,
   "id": "187729b4-6c82-4493-be6e-0796ce259835",
   "metadata": {},
   "outputs": [],
   "source": [
    "gpt4_rt_affix.to_csv('gpt4_rt_affix.csv', index = False)"
   ]
  },
  {
   "cell_type": "code",
   "execution_count": null,
   "id": "d080b799-4a26-402d-959c-577d597462d1",
   "metadata": {},
   "outputs": [],
   "source": [
    "dataset = load_dataset('joey234/rotten_tomatoes_affix_neg')\n",
    "sentences = dataset['test']['sentence_replace_affix']\n",
    "ret = request_sentiment_sentence(sentences)\n",
    "gpt4_rt_replace_affix = pd.DataFrame(data = {'word': dataset['test']['sentence_replace_affix'], 'pred': [x[1] for x in ret], 'gold': dataset['test']['label']})\n",
    "gpt4_rt_replace_affix['pred'] = gpt4_rt_replace_affix['pred'].map(lambda x: labelmap[x])"
   ]
  },
  {
   "cell_type": "code",
   "execution_count": null,
   "id": "290274e7-75fa-4692-8211-20647a77fda7",
   "metadata": {},
   "outputs": [],
   "source": [
    "gpt4_rt_replace_affix.to_csv('gpt4_rt_replace_affix.csv', index = False)"
   ]
  },
  {
   "cell_type": "code",
   "execution_count": null,
   "id": "89d75a32-756e-4104-8e1c-aad139a5ab7f",
   "metadata": {},
   "outputs": [],
   "source": [
    "dataset = load_dataset('joey234/rt_non_affix')\n",
    "sentences = dataset['test']['text']\n",
    "ret = request_sentiment_sentence(sentences)\n",
    "gpt4_rt_non_affix = pd.DataFrame(data = {'word': dataset['test']['text'], 'pred': [x[1] for x in ret], 'gold': dataset['test']['label']})\n",
    "gpt4_rt_non_affix['pred'] = gpt4_rt_non_affix['pred'].map(lambda x: labelmap[x])\n",
    "gpt4_rt_non_affix.to_csv('gpt4_rt_non_affix.csv', index = False)"
   ]
  },
  {
   "cell_type": "code",
   "execution_count": null,
   "id": "bb4a12d6-d7f6-4f16-9df7-54352379b674",
   "metadata": {},
   "outputs": [],
   "source": [
    "# gpt4_rt_non_affix['pred'] = gpt4_rt_non_affix['pred'].map(lambda x: labelmap[x])\n",
    "rows = []\n",
    "for i, row in gpt4_rt_non_affix.iterrows():\n",
    "    if row['pred'] == 3:\n",
    "        row['pred'] = row['gold']\n",
    "    rows.append(row)\n",
    "gpt4_rt_non_affix = pd.DataFrame(data  =rows)\n",
    "gpt4_rt_non_affix.to_csv('gpt4_rt_non_affix.csv', index = False)"
   ]
  },
  {
   "cell_type": "code",
   "execution_count": null,
   "id": "58b52e81-a34d-4354-9f01-7c6e9e571a55",
   "metadata": {},
   "outputs": [],
   "source": [
    "gpt4_rt_non_affix"
   ]
  },
  {
   "cell_type": "code",
   "execution_count": null,
   "id": "106bb582-070a-43b3-bd7f-7bea78e385ed",
   "metadata": {},
   "outputs": [],
   "source": [
    "dataset = load_dataset('joey234/sst2_affix_neg')\n",
    "sentences = dataset['validation']['sentence']\n",
    "ret = request_sentiment_sentence(sentences)\n",
    "gpt4_sst2_affix = pd.DataFrame(data = {'word': dataset['validation']['sentence'], 'pred': [x[1] for x in ret], 'gold': dataset['validation']['label']})\n",
    "gpt4_sst2_affix['pred'] = gpt4_sst2_affix['pred'].map(lambda x: labelmap[x])\n",
    "gpt4_sst2_affix.to_csv('gpt4_sst2_affix.csv', index = False)"
   ]
  },
  {
   "cell_type": "code",
   "execution_count": null,
   "id": "e8ab14cc-be9e-4339-b3df-a820cfb741e4",
   "metadata": {},
   "outputs": [],
   "source": [
    "dataset = load_dataset('joey234/sst2_affix_neg')\n",
    "sentences = dataset['validation']['sentence_replace_affix']\n",
    "ret = request_sentiment_sentence(sentences)\n",
    "gpt4_sst2_replace_affix = pd.DataFrame(data = {'word': dataset['validation']['sentence_replace_affix'], 'pred': [x[1] for x in ret], 'gold': dataset['validation']['label']})\n",
    "gpt4_sst2_replace_affix['pred'] = gpt4_sst2_replace_affix['pred'].map(lambda x: labelmap[x])\n",
    "gpt4_sst2_replace_affix.to_csv('gpt4_sst2_replace_affix.csv', index = False)"
   ]
  },
  {
   "cell_type": "code",
   "execution_count": null,
   "id": "4bc1b188-5ef3-4c8e-9811-84947a9253c6",
   "metadata": {},
   "outputs": [],
   "source": [
    "dataset = load_dataset('joey234/sst2_non_affix_neg')\n",
    "sentences = dataset['validation']['sentence']\n",
    "ret = request_sentiment_sentence(sentences)\n",
    "gpt4_sst2_non_affix = pd.DataFrame(data = {'word': dataset['validation']['sentence'], 'pred': [x[1] for x in ret], 'gold': dataset['validation']['label']})\n",
    "gpt4_sst2_non_affix['pred'] = gpt4_sst2_non_affix['pred'].map(lambda x: labelmap[x])\n",
    "gpt4_sst2_non_affix.to_csv('gpt4_sst2_non_affix.csv', index = False)"
   ]
  },
  {
   "cell_type": "code",
   "execution_count": null,
   "id": "582efa17-21a1-4d3f-a201-92a827b23568",
   "metadata": {},
   "outputs": [],
   "source": [
    "gpt4_sst2_affix = pd.read_csv('gpt4_sst2_affix.csv')\n",
    "gpt4_sst2_replace_affix = pd.read_csv('gpt4_sst2_replace_affix.csv')\n",
    "gpt4_sst2_non_affix = pd.read_csv('gpt4_sst2_non_affix.csv')"
   ]
  },
  {
   "cell_type": "code",
   "execution_count": null,
   "id": "6b46b1f7",
   "metadata": {},
   "outputs": [],
   "source": [
    "gpt4_rt_affix = pd.read_csv('gpt4_rt_affix.csv')\n",
    "gpt4_rt_replace_affix = pd.read_csv('gpt4_rt_replace_affix.csv')\n",
    "gpt4_rt_non_affix = pd.read_csv('gpt4_rt_non_affix.csv')"
   ]
  },
  {
   "cell_type": "code",
   "execution_count": null,
   "id": "8c22a5b4-38ef-4348-8a3c-8e0a3ddbf00a",
   "metadata": {},
   "outputs": [],
   "source": [
    "gpt4_sst2_affix_acc = accuracy_score(gpt4_sst2_affix['gold'], gpt4_sst2_affix['pred'])\n",
    "gpt4_sst2_replace_affix_acc = accuracy_score(gpt4_sst2_replace_affix['gold'], gpt4_sst2_replace_affix['pred'])\n",
    "gpt4_sst2_non_affix_acc = accuracy_score(gpt4_sst2_non_affix['gold'], gpt4_sst2_non_affix['pred'])\n"
   ]
  },
  {
   "cell_type": "code",
   "execution_count": null,
   "id": "e2ddf9f6-78e6-4ff9-bb16-abd7e306b809",
   "metadata": {},
   "outputs": [],
   "source": [
    "gpt4_rt_affix_acc = accuracy_score(gpt4_rt_affix['gold'], gpt4_rt_affix['pred'])\n",
    "gpt4_rt_replace_affix_acc = accuracy_score(gpt4_rt_replace_affix['gold'], gpt4_rt_replace_affix['pred'])\n",
    "gpt4_rt_non_affix_acc = accuracy_score(gpt4_rt_non_affix['gold'], gpt4_rt_non_affix['pred'])\n"
   ]
  },
  {
   "cell_type": "code",
   "execution_count": null,
   "id": "b46a7303-d9af-4f0b-b199-4369fc960f73",
   "metadata": {},
   "outputs": [],
   "source": [
    "llama_rt_affix_acc = 0.9629629629629629\n",
    "llama_rt_replace_affix_acc = 0.9629629629629629\n",
    "llama_rt_non_affix_acc = 0.8920041536863966\n",
    "\n",
    "\n",
    "flan_rt_affix_acc = 0.9351851851851852\n",
    "flan_rt_replace_affix_acc = 0.9166666666666666\n",
    "flan_rt_non_affix_acc = 0.9345794392523364"
   ]
  },
  {
   "cell_type": "code",
   "execution_count": null,
   "id": "11b313f3-f98f-4c5e-b284-55d2ce789a77",
   "metadata": {},
   "outputs": [],
   "source": [
    "llama_sst2_affix_acc = 0.8873239436619719\n",
    "llama_sst2_replace_affix_acc = 0.8732394366197183\n",
    "llama_sst2_non_affix_acc = 0.9254658385093167\n",
    "\n",
    "\n",
    "flan_sst2_affix_acc = 0.971830985915493\n",
    "flan_sst2_replace_affix_acc = 0.9577464788732394\n",
    "flan_sst2_non_affix_acc = 0.9577639751552796"
   ]
  },
  {
   "cell_type": "code",
   "execution_count": null,
   "id": "e087e4f5-3a96-43eb-b9fd-1aa0290181a4",
   "metadata": {},
   "outputs": [],
   "source": [
    "sst2_affix_avg_acc = (gpt4_sst2_affix_acc + llama_sst2_affix_acc + flan_sst2_affix_acc)/3\n",
    "sst2_replace_affix_avg_acc = (gpt4_sst2_replace_affix_acc + llama_sst2_replace_affix_acc + flan_sst2_replace_affix_acc)/3\n",
    "sst2_non_affix_avg_acc = (gpt4_sst2_non_affix_acc + llama_sst2_non_affix_acc + flan_sst2_non_affix_acc)/3\n",
    "\n",
    "rt_affix_avg_acc = (gpt4_rt_affix_acc + llama_rt_affix_acc + flan_rt_affix_acc)/3\n",
    "rt_replace_affix_avg_acc = (gpt4_rt_replace_affix_acc + llama_rt_replace_affix_acc + flan_rt_replace_affix_acc)/3\n",
    "rt_non_affix_avg_acc = (gpt4_rt_non_affix_acc + llama_rt_non_affix_acc + flan_rt_non_affix_acc)/3\n",
    "\n"
   ]
  },
  {
   "cell_type": "code",
   "execution_count": null,
   "id": "ddefe5a2-f368-4dda-a435-6fca1198218c",
   "metadata": {},
   "outputs": [],
   "source": [
    "gpt4_sst2_affix_neg = gpt4_sst2_affix[gpt4_sst2_affix['gold'] == 0]\n",
    "gpt4_sst2_affix_pos = gpt4_sst2_affix[gpt4_sst2_affix['gold'] == 1]\n",
    "\n",
    "gpt4_sst2_non_affix_neg = gpt4_sst2_non_affix[gpt4_sst2_non_affix['gold'] == 0]\n",
    "gpt4_sst2_non_affix_pos = gpt4_sst2_non_affix[gpt4_sst2_non_affix['gold'] == 1]\n",
    "\n",
    "gpt4_sst2_replace_affix_neg = gpt4_sst2_replace_affix[gpt4_sst2_replace_affix['gold'] == 0]\n",
    "gpt4_sst2_replace_affix_pos = gpt4_sst2_replace_affix[gpt4_sst2_replace_affix['gold'] == 1]\n",
    "\n",
    "\n",
    "\n",
    "gpt4_rt_affix_neg = gpt4_rt_affix[gpt4_rt_affix['gold'] == 0]\n",
    "gpt4_rt_affix_pos = gpt4_rt_affix[gpt4_rt_affix['gold'] == 1]\n",
    "\n",
    "gpt4_rt_non_affix_neg = gpt4_rt_non_affix[gpt4_rt_non_affix['gold'] == 0]\n",
    "gpt4_rt_non_affix_pos = gpt4_rt_non_affix[gpt4_rt_non_affix['gold'] == 1]\n",
    "\n",
    "gpt4_rt_replace_affix_neg = gpt4_rt_replace_affix[gpt4_rt_replace_affix['gold'] == 0]\n",
    "gpt4_rt_replace_affix_pos = gpt4_rt_replace_affix[gpt4_rt_replace_affix['gold'] == 1]\n",
    "\n"
   ]
  },
  {
   "cell_type": "code",
   "execution_count": null,
   "id": "774c6823-62ca-413e-a2b9-444f770a13dc",
   "metadata": {},
   "outputs": [],
   "source": [
    "rows = []\n",
    "\n",
    "row = {}\n",
    "row['Setting'] = 'Affix'\n",
    "row['Subset'] = 'Neg'\n",
    "row['Dataset'] = 'SST-2'\n",
    "row['Model'] = 'GPT-4'\n",
    "row['Accuracy'] = accuracy_score(gpt4_sst2_affix_neg['gold'], gpt4_sst2_affix_neg['pred'])\n",
    "rows.append(row)\n",
    "\n",
    "row = {}\n",
    "row['Setting'] = 'Affix'\n",
    "row['Subset'] = 'Pos'\n",
    "row['Dataset'] = 'SST-2'\n",
    "row['Model'] = 'GPT-4'\n",
    "row['Accuracy'] = accuracy_score(gpt4_sst2_affix_pos['gold'], gpt4_sst2_affix_pos['pred'])\n",
    "rows.append(row)\n",
    "\n",
    "\n",
    "row = {}\n",
    "row['Setting'] = 'Non affix'\n",
    "row['Subset'] = 'Neg'\n",
    "row['Dataset'] = 'SST-2'\n",
    "row['Model'] = 'GPT-4'\n",
    "row['Accuracy'] = accuracy_score(gpt4_sst2_non_affix_neg['gold'], gpt4_sst2_non_affix_neg['pred'])\n",
    "rows.append(row)\n",
    "\n",
    "row = {}\n",
    "row['Setting'] = 'Non affix'\n",
    "row['Subset'] = 'Pos'\n",
    "row['Dataset'] = 'SST-2'\n",
    "row['Model'] = 'GPT-4'\n",
    "row['Accuracy'] = accuracy_score(gpt4_sst2_non_affix_pos['gold'], gpt4_sst2_non_affix_pos['pred'])\n",
    "rows.append(row)\n",
    "\n",
    "row = {}\n",
    "row['Setting'] = 'Replace affix'\n",
    "row['Subset'] = 'Neg'\n",
    "row['Dataset'] = 'SST-2'\n",
    "row['Model'] = 'GPT-4'\n",
    "row['Accuracy'] = accuracy_score(gpt4_sst2_non_affix_neg['gold'], gpt4_sst2_non_affix_neg['pred'])\n",
    "rows.append(row)\n",
    "\n",
    "row = {}\n",
    "row['Setting'] = 'Replace affix'\n",
    "row['Subset'] = 'Pos'\n",
    "row['Dataset'] = 'SST-2'\n",
    "row['Model'] = 'GPT-4'\n",
    "row['Accuracy'] = accuracy_score(gpt4_sst2_replace_affix_pos['gold'], gpt4_sst2_replace_affix_pos['pred'])\n",
    "rows.append(row)\n",
    "\n",
    "\n",
    "\n",
    "\n",
    "row = {}\n",
    "row['Setting'] = 'Affix'\n",
    "row['Subset'] = 'Neg'\n",
    "row['Dataset'] = 'RT'\n",
    "row['Model'] = 'GPT-4'\n",
    "row['Accuracy'] = accuracy_score(gpt4_rt_affix_neg['gold'], gpt4_rt_affix_neg['pred'])\n",
    "rows.append(row)\n",
    "\n",
    "row = {}\n",
    "row['Setting'] = 'Affix'\n",
    "row['Subset'] = 'Pos'\n",
    "row['Dataset'] = 'RT'\n",
    "row['Model'] = 'GPT-4'\n",
    "row['Accuracy'] = accuracy_score(gpt4_rt_affix_pos['gold'], gpt4_rt_affix_pos['pred'])\n",
    "rows.append(row)\n",
    "\n",
    "\n",
    "row = {}\n",
    "row['Setting'] = 'Non affix'\n",
    "row['Subset'] = 'Neg'\n",
    "row['Dataset'] = 'RT'\n",
    "row['Model'] = 'GPT-4'\n",
    "row['Accuracy'] = accuracy_score(gpt4_rt_non_affix_neg['gold'], gpt4_rt_non_affix_neg['pred'])\n",
    "rows.append(row)\n",
    "\n",
    "row = {}\n",
    "row['Setting'] = 'Non affix'\n",
    "row['Subset'] = 'Pos'\n",
    "row['Dataset'] = 'RT'\n",
    "row['Model'] = 'GPT-4'\n",
    "row['Accuracy'] = accuracy_score(gpt4_rt_non_affix_pos['gold'], gpt4_rt_non_affix_pos['pred'])\n",
    "rows.append(row)\n",
    "\n",
    "row = {}\n",
    "row['Setting'] = 'Replace affix'\n",
    "row['Subset'] = 'Neg'\n",
    "row['Dataset'] = 'RT'\n",
    "row['Model'] = 'GPT-4'\n",
    "row['Accuracy'] = accuracy_score(gpt4_rt_non_affix_neg['gold'], gpt4_rt_non_affix_neg['pred'])\n",
    "rows.append(row)\n",
    "\n",
    "row = {}\n",
    "row['Setting'] = 'Replace affix'\n",
    "row['Subset'] = 'Pos'\n",
    "row['Dataset'] = 'RT'\n",
    "row['Model'] = 'GPT-4'\n",
    "row['Accuracy'] = accuracy_score(gpt4_rt_replace_affix_pos['gold'], gpt4_rt_replace_affix_pos['pred'])\n",
    "rows.append(row)\n"
   ]
  },
  {
   "cell_type": "code",
   "execution_count": null,
   "id": "e4d61539-795a-436d-b75c-b2277f7c25da",
   "metadata": {},
   "outputs": [],
   "source": [
    "row = {}\n",
    "row['Setting'] = 'Affix'\n",
    "row['Subset'] = 'Neg'\n",
    "row['Dataset'] = 'SST-2'\n",
    "row['Model'] = 'Flan-T5-xxl'\n",
    "row['Accuracy'] = 1.0\n",
    "rows.append(row)\n",
    "\n",
    "row = {}\n",
    "row['Setting'] = 'Affix'\n",
    "row['Subset'] = 'Pos'\n",
    "row['Dataset'] = 'SST-2'\n",
    "row['Model'] = 'Flan-T5-xxl'\n",
    "row['Accuracy'] = 0.9285714285714286\n",
    "rows.append(row)\n",
    "\n",
    "\n",
    "row = {}\n",
    "row['Setting'] = 'Non affix'\n",
    "row['Subset'] = 'Neg'\n",
    "row['Dataset'] = 'SST-2'\n",
    "row['Model'] = 'Flan-T5-xxl'\n",
    "row['Accuracy'] = 0.9717223650385605\n",
    "rows.append(row)\n",
    "\n",
    "row = {}\n",
    "row['Setting'] = 'Non affix'\n",
    "row['Subset'] = 'Pos'\n",
    "row['Dataset'] = 'SST-2'\n",
    "row['Model'] = 'Flan-T5-xxl'\n",
    "row['Accuracy'] = 0.9447115384615384\n",
    "rows.append(row)\n",
    "\n",
    "row = {}\n",
    "row['Setting'] = 'Replace affix'\n",
    "row['Subset'] = 'Neg'\n",
    "row['Dataset'] = 'SST-2'\n",
    "row['Model'] = 'Flan-T5-xxl'\n",
    "row['Accuracy'] = 1.0\n",
    "rows.append(row)\n",
    "\n",
    "row = {}\n",
    "row['Setting'] = 'Replace affix'\n",
    "row['Subset'] = 'Pos'\n",
    "row['Dataset'] = 'SST-2'\n",
    "row['Model'] = 'Flan-T5-xxl'\n",
    "row['Accuracy'] = 0.8928571428571429\n",
    "rows.append(row)\n",
    "\n",
    "\n",
    "\n",
    "\n",
    "row = {}\n",
    "row['Setting'] = 'Affix'\n",
    "row['Subset'] = 'Neg'\n",
    "row['Dataset'] = 'RT'\n",
    "row['Model'] = 'Flan-T5-xxl'\n",
    "row['Accuracy'] = 0.9666666666666667\n",
    "rows.append(row)\n",
    "\n",
    "row = {}\n",
    "row['Setting'] = 'Affix'\n",
    "row['Subset'] = 'Pos'\n",
    "row['Dataset'] = 'RT'\n",
    "row['Model'] = 'Flan-T5-xxl'\n",
    "row['Accuracy'] = 0.8958333333333334\n",
    "rows.append(row)\n",
    "\n",
    "\n",
    "row = {}\n",
    "row['Setting'] = 'Non affix'\n",
    "row['Subset'] = 'Neg'\n",
    "row['Dataset'] = 'RT'\n",
    "row['Model'] = 'Flan-T5-xxl'\n",
    "row['Accuracy'] = 0.9433962264150944\n",
    "rows.append(row)\n",
    "\n",
    "row = {}\n",
    "row['Setting'] = 'Non affix'\n",
    "row['Subset'] = 'Pos'\n",
    "row['Dataset'] = 'RT'\n",
    "row['Model'] = 'Flan-T5-xxl'\n",
    "row['Accuracy'] = 0.9259259259259259\n",
    "rows.append(row)\n",
    "\n",
    "row = {}\n",
    "row['Setting'] = 'Replace affix'\n",
    "row['Subset'] = 'Neg'\n",
    "row['Dataset'] = 'RT'\n",
    "row['Model'] = 'Flan-T5-xxl'\n",
    "row['Accuracy'] = 0.95\n",
    "rows.append(row)\n",
    "\n",
    "row = {}\n",
    "row['Setting'] = 'Replace affix'\n",
    "row['Subset'] = 'Pos'\n",
    "row['Dataset'] = 'RT'\n",
    "row['Model'] = 'Flan-T5-xxl'\n",
    "row['Accuracy'] = 0.875\n",
    "rows.append(row)"
   ]
  },
  {
   "cell_type": "code",
   "execution_count": null,
   "id": "31e4484d-636d-4b3b-be9a-7d708c52e3d4",
   "metadata": {},
   "outputs": [],
   "source": [
    "row = {}\n",
    "row['Setting'] = 'Affix'\n",
    "row['Subset'] = 'Neg'\n",
    "row['Dataset'] = 'SST-2'\n",
    "row['Model'] = 'Llama-2-13B'\n",
    "row['Accuracy'] = 0.9302325581395349\n",
    "rows.append(row)\n",
    "\n",
    "row = {}\n",
    "row['Setting'] = 'Affix'\n",
    "row['Subset'] = 'Pos'\n",
    "row['Dataset'] = 'SST-2'\n",
    "row['Model'] = 'Llama-2-13B'\n",
    "row['Accuracy'] = 0.8214285714285714\n",
    "rows.append(row)\n",
    "\n",
    "\n",
    "row = {}\n",
    "row['Setting'] = 'Non affix'\n",
    "row['Subset'] = 'Neg'\n",
    "row['Dataset'] = 'SST-2'\n",
    "row['Model'] = 'Llama-2-13B'\n",
    "row['Accuracy'] = 0.9511568123393316\n",
    "rows.append(row)\n",
    "\n",
    "row = {}\n",
    "row['Setting'] = 'Non affix'\n",
    "row['Subset'] = 'Pos'\n",
    "row['Dataset'] = 'SST-2'\n",
    "row['Model'] = 'Llama-2-13B'\n",
    "row['Accuracy'] = 0.9014423076923077\n",
    "rows.append(row)\n",
    "\n",
    "row = {}\n",
    "row['Setting'] = 'Replace affix'\n",
    "row['Subset'] = 'Neg'\n",
    "row['Dataset'] = 'SST-2'\n",
    "row['Model'] = 'Llama-2-13B'\n",
    "row['Accuracy'] = 0.9069767441860465\n",
    "rows.append(row)\n",
    "\n",
    "row = {}\n",
    "row['Setting'] = 'Replace affix'\n",
    "row['Subset'] = 'Pos'\n",
    "row['Dataset'] = 'SST-2'\n",
    "row['Model'] = 'Llama-2-13B'\n",
    "row['Accuracy'] = 0.8214285714285714\n",
    "rows.append(row)\n",
    "\n",
    "\n",
    "\n",
    "\n",
    "row = {}\n",
    "row['Setting'] = 'Affix'\n",
    "row['Subset'] = 'Neg'\n",
    "row['Dataset'] = 'RT'\n",
    "row['Model'] = 'Llama-2-13B'\n",
    "row['Accuracy'] = 1.0\n",
    "rows.append(row)\n",
    "\n",
    "row = {}\n",
    "row['Setting'] = 'Affix'\n",
    "row['Subset'] = 'Pos'\n",
    "row['Dataset'] = 'RT'\n",
    "row['Model'] = 'Llama-2-13B'\n",
    "row['Accuracy'] = 0.9166666666666666\n",
    "rows.append(row)\n",
    "\n",
    "\n",
    "row = {}\n",
    "row['Setting'] = 'Non affix'\n",
    "row['Subset'] = 'Neg'\n",
    "row['Dataset'] = 'RT'\n",
    "row['Model'] = 'Llama-2-13B'\n",
    "row['Accuracy'] = 0.8909853249475891\n",
    "rows.append(row)\n",
    "\n",
    "row = {}\n",
    "row['Setting'] = 'Non affix'\n",
    "row['Subset'] = 'Pos'\n",
    "row['Dataset'] = 'RT'\n",
    "row['Model'] = 'Llama-2-13B'\n",
    "row['Accuracy'] = 0.8930041152263375\n",
    "rows.append(row)\n",
    "\n",
    "row = {}\n",
    "row['Setting'] = 'Replace affix'\n",
    "row['Subset'] = 'Neg'\n",
    "row['Dataset'] = 'RT'\n",
    "row['Model'] = 'Llama-2-13B'\n",
    "row['Accuracy'] = 0.9833333333333333\n",
    "rows.append(row)\n",
    "\n",
    "row = {}\n",
    "row['Setting'] = 'Replace affix'\n",
    "row['Subset'] = 'Pos'\n",
    "row['Dataset'] = 'RT'\n",
    "row['Model'] = 'Llama-2-13B'\n",
    "row['Accuracy'] = 0.9375\n",
    "rows.append(row)"
   ]
  },
  {
   "cell_type": "code",
   "execution_count": null,
   "id": "bf81c2ea-1998-4c9b-b0d6-21e4bd315d63",
   "metadata": {},
   "outputs": [],
   "source": [
    "df_sentiment_class = pd.DataFrame(data = rows)"
   ]
  },
  {
   "cell_type": "code",
   "execution_count": null,
   "id": "8be2d52d-6a73-4a89-a7bd-215057c84d29",
   "metadata": {},
   "outputs": [],
   "source": [
    "df_sentiment_class"
   ]
  },
  {
   "cell_type": "code",
   "execution_count": null,
   "id": "d9cd57b5-039c-405c-ab86-e0d22b13d09d",
   "metadata": {},
   "outputs": [],
   "source": [
    "df_sentiment_class.to_csv('df_sentiment_class.csv', index = False)"
   ]
  },
  {
   "cell_type": "code",
   "execution_count": null,
   "id": "c423cfa6",
   "metadata": {},
   "outputs": [],
   "source": [
    "df_sentiment_class = pd.read_csv('df_sentiment_class.csv')"
   ]
  },
  {
   "cell_type": "code",
   "execution_count": null,
   "id": "c8613429-2e85-455d-9692-454a0a53e019",
   "metadata": {},
   "outputs": [],
   "source": [
    "df_sentiment_class_group = df_sentiment_class.groupby(['Subset','Setting', 'Dataset'])['Accuracy'].mean().reset_index()"
   ]
  },
  {
   "cell_type": "code",
   "execution_count": null,
   "id": "47676442-539e-4434-a408-3eaaccc849eb",
   "metadata": {},
   "outputs": [],
   "source": [
    "df_sentiment_class_group"
   ]
  },
  {
   "cell_type": "code",
   "execution_count": null,
   "id": "b67db722-3b26-4e7a-bc7c-a32196d551af",
   "metadata": {},
   "outputs": [],
   "source": [
    "df_sentiment_class_group_affix = df_sentiment_class_group.loc[(df_sentiment_class_group['Setting'] == 'Affix') | (df_sentiment_class_group['Setting'] == 'Replace affix')]"
   ]
  },
  {
   "cell_type": "code",
   "execution_count": null,
   "id": "02d3f255-85f7-4f21-b145-4c9d569709e1",
   "metadata": {},
   "outputs": [],
   "source": [
    "df_sentiment_class_group_affix"
   ]
  },
  {
   "cell_type": "code",
   "execution_count": null,
   "id": "d0edd399-d424-4296-9f1f-3aee6046aece",
   "metadata": {},
   "outputs": [],
   "source": [
    "df_sentiment_class_group_affix = df_sentiment_class_group_affix.groupby(['Setting','Subset'])['Accuracy'].mean().reset_index()"
   ]
  },
  {
   "cell_type": "code",
   "execution_count": null,
   "id": "794fed61-fc8c-49a9-991c-8a8a3e702327",
   "metadata": {},
   "outputs": [],
   "source": [
    "df_sentiment_class_group_affix"
   ]
  },
  {
   "cell_type": "code",
   "execution_count": null,
   "id": "377927df-65de-4d64-82ff-772ba9178f9f",
   "metadata": {},
   "outputs": [],
   "source": [
    "fig, ax = plt.subplots(1, 1, figsize=(5, 3), width_ratios = [1])\n",
    "\n",
    "g = sns.barplot(\n",
    "    data=df_sentiment_class_group_affix,\n",
    "    x=\"Dataset\", y=\"Accuracy\", hue=\"Subset\",\n",
    "    palette=color_cycle, alpha=1, ax = ax, errorbar = None);\n",
    "g.set(ylim=(0.825, 1))\n",
    "\n",
    "g.tick_params(labelsize=15)\n",
    "# g.xlabel(labelsize=15)\n",
    "ax.set_xlabel('')\n",
    "ax.set_ylabel('Accuracy', fontsize= 15)\n",
    "\n",
    "\n",
    "# ax[.spines[['right', 'top']].set_visible(False)\n",
    "ax.spines[['right', 'top']].set_visible(False)\n",
    "ax.set_title('Affix', fontsize= 15)\n",
    "fig.savefig('sentiment_sentence_affix_class.pdf', bbox_inches='tight')\n",
    "\n",
    "# plt.tight_layout()\n",
    "# plt.show()\n"
   ]
  },
  {
   "cell_type": "code",
   "execution_count": null,
   "id": "8299fa64-3fc9-4f45-b112-a7b0dd6fae7d",
   "metadata": {},
   "outputs": [],
   "source": [
    "rows = []\n",
    "\n",
    "row = {}\n",
    "row['Setting'] = 'Affix'\n",
    "row['Dataset'] = 'SST-2'\n",
    "row['Accuracy'] = sst2_affix_avg_acc\n",
    "rows.append(row)\n",
    "\n",
    "row = {}\n",
    "row['Setting'] = 'Non affix'\n",
    "row['Dataset'] = 'SST-2'\n",
    "row['Accuracy'] = sst2_non_affix_avg_acc\n",
    "rows.append(row)\n",
    "\n",
    "\n",
    "row = {}\n",
    "row['Setting'] = 'Replace affix'\n",
    "row['Dataset'] = 'SST-2'\n",
    "row['Accuracy'] = sst2_replace_affix_avg_acc\n",
    "rows.append(row)\n",
    "\n",
    "\n",
    "row = {}\n",
    "row['Setting'] = 'Affix'\n",
    "row['Dataset'] = 'RT'\n",
    "row['Accuracy'] = rt_affix_avg_acc\n",
    "rows.append(row)\n",
    "\n",
    "row = {}\n",
    "row['Setting'] = 'Non affix'\n",
    "row['Dataset'] = 'RT'\n",
    "row['Accuracy'] = rt_non_affix_avg_acc\n",
    "rows.append(row)\n",
    "\n",
    "\n",
    "row = {}\n",
    "row['Setting'] = 'Replace affix'\n",
    "row['Dataset'] = 'RT'\n",
    "row['Accuracy'] = rt_replace_affix_avg_acc\n",
    "rows.append(row)\n",
    "\n",
    "\n",
    "df_sentence_sentiment = pd.DataFrame(data = rows)"
   ]
  },
  {
   "cell_type": "code",
   "execution_count": null,
   "id": "b506ccd5-059c-4fce-a9fc-a0a768216041",
   "metadata": {},
   "outputs": [],
   "source": [
    "df_sentence_sentiment"
   ]
  },
  {
   "cell_type": "code",
   "execution_count": null,
   "id": "174bda65-a3d3-4edd-ba47-1f131c35d25b",
   "metadata": {},
   "outputs": [],
   "source": [
    "sns.set(font_scale=1.5)\n",
    "sns.set_style('ticks')\n",
    "fig, ax = plt.subplots(1, 1, figsize=(7, 7), width_ratios = [1])\n",
    "\n",
    "g = sns.barplot(\n",
    "    data=df_sentence_sentiment,\n",
    "    x=\"Dataset\", y=\"Accuracy\", hue=\"Setting\",\n",
    "    palette=color_cycle, alpha=1, ax = ax)\n",
    "g.set(ylim=(0.88, 0.975))\n",
    "ax.set_xlabel('')\n",
    "ax.set_ylabel('Accuracy', fontsize= 20)\n",
    "# ax.set_yticks(np.arange(0.85, 0.975, 0.02))\n",
    "# ax[.spines[['right', 'top']].set_visible(False)\n",
    "ax.spines[['right', 'top']].set_visible(False)\n",
    "# sns.move_legend(ax, \"center left\", bbox_to_anchor=(1, 0.9))\n",
    "fig.savefig('sentiment_sentence.pdf', bbox_inches='tight')\n",
    "\n",
    "# plt.tight_layout()\n",
    "# plt.show()\n"
   ]
  },
  {
   "cell_type": "code",
   "execution_count": null,
   "id": "b0cba08e-0828-4d81-8b58-4c07bb0b9a19",
   "metadata": {},
   "outputs": [],
   "source": [
    "df_neg = df[df['gold'] == 0]\n",
    "len(df_neg[df_neg['pred'] == df_neg['gold']])/len(df_neg)"
   ]
  },
  {
   "cell_type": "code",
   "execution_count": null,
   "id": "dce824e1-5b5f-4080-9cad-5e53eb55a28f",
   "metadata": {},
   "outputs": [],
   "source": [
    "df_neg = df[df['gold'] == 1]\n",
    "len(df_neg[df_neg['pred'] == df_neg['gold']])/len(df_neg)"
   ]
  },
  {
   "cell_type": "code",
   "execution_count": null,
   "id": "51f2a0cd-75db-4132-8023-3d672d94705f",
   "metadata": {},
   "outputs": [],
   "source": [
    "df_neg = df[df['gold'] == 2]\n",
    "len(df_neg[df_neg['pred'] == df_neg['gold']])/len(df_neg)"
   ]
  },
  {
   "cell_type": "code",
   "execution_count": null,
   "id": "732e31dd-be4b-4950-93ac-c306fe675c04",
   "metadata": {},
   "outputs": [],
   "source": [
    "df.to_csv('gpt4_affixpolarity_pred.csv')"
   ]
  },
  {
   "cell_type": "code",
   "execution_count": null,
   "id": "87679ba9-4ab9-4066-9735-3dfacd4ce879",
   "metadata": {},
   "outputs": [],
   "source": [
    "gpt4_pred = pd.read_csv('gpt4_affixpolarity_pred.csv')\n",
    "flan_pred = pd.read_csv('flant5_affixpolarity_pred.csv')\n",
    "llama2_pred = pd.read_csv('llama2_affixpolarity_pred.csv')"
   ]
  },
  {
   "cell_type": "code",
   "execution_count": null,
   "id": "a9289592-cb6b-45dc-a52f-32f553612a55",
   "metadata": {},
   "outputs": [],
   "source": [
    "from sklearn.metrics import confusion_matrix, ConfusionMatrixDisplay"
   ]
  },
  {
   "cell_type": "code",
   "execution_count": null,
   "id": "8f3b0276-2331-4294-80b6-29daff385bc5",
   "metadata": {},
   "outputs": [],
   "source": [
    "labels = ['Negative', 'Positive', 'Neutral']"
   ]
  },
  {
   "cell_type": "code",
   "execution_count": null,
   "id": "dd70f7f7-5125-4fd2-a003-817c761fb39c",
   "metadata": {},
   "outputs": [],
   "source": [
    "cm_gpt4 = ConfusionMatrixDisplay.from_predictions(gpt4_pred['gold'], gpt4_pred['pred'], colorbar= False, normalize = 'true', values_format = '.2f')\n",
    "cm_flan = ConfusionMatrixDisplay.from_predictions(gpt4_pred['gold'], flan_pred['pred'], colorbar= False, normalize = 'true', values_format = '.2f')\n",
    "cm_llama2 = ConfusionMatrixDisplay.from_predictions(gpt4_pred['gold'], llama2_pred['pred'], colorbar = False, normalize = 'true', values_format = '.2f')"
   ]
  },
  {
   "cell_type": "code",
   "execution_count": null,
   "id": "4eed2e1a-a177-41c3-8eda-b47228bb5b05",
   "metadata": {},
   "outputs": [],
   "source": [
    "#draw an f1-plot and 3 confusion matrix here"
   ]
  },
  {
   "cell_type": "code",
   "execution_count": null,
   "id": "471fbcea-a6e1-4723-8b0b-a4ea2c435d53",
   "metadata": {},
   "outputs": [],
   "source": [
    "#bar plot for f1"
   ]
  },
  {
   "cell_type": "code",
   "execution_count": null,
   "id": "458643f7-8c42-4f5b-9f8d-92e514d45812",
   "metadata": {},
   "outputs": [],
   "source": [
    "from sklearn.metrics import f1_score"
   ]
  },
  {
   "cell_type": "code",
   "execution_count": null,
   "id": "4f730b01-21c5-40a5-ac2a-6ae7e66ffae4",
   "metadata": {},
   "outputs": [],
   "source": [
    "gpt4_f1 = f1_score(gpt4_pred['gold'], gpt4_pred['pred'], average='micro')\n",
    "llama2_f1 = f1_score(gpt4_pred['gold'], llama2_pred['pred'], average='micro')\n",
    "flan_f1 = f1_score(gpt4_pred['gold'], flan_pred['pred'], average='micro')\n",
    "f1s = [gpt4_f1, llama2_f1, flan_f1]"
   ]
  },
  {
   "cell_type": "code",
   "execution_count": null,
   "id": "72879327-fd31-4375-8830-a65b2682e536",
   "metadata": {},
   "outputs": [],
   "source": [
    "import matplotlib.pyplot as plt                                                                                                                           \n",
    "import numpy as np"
   ]
  },
  {
   "cell_type": "code",
   "execution_count": null,
   "id": "26d901e1-17af-494c-98be-702d3c5afd80",
   "metadata": {},
   "outputs": [],
   "source": [
    "from mpl_toolkits.axes_grid1 import make_axes_locatable\n"
   ]
  },
  {
   "cell_type": "code",
   "execution_count": null,
   "id": "9d6a117b-4268-4a99-b0fc-97c51d5bf4da",
   "metadata": {},
   "outputs": [],
   "source": [
    "model_labels = [\"GPT-4\", \"Llama-2-13B\", \"Flan-T5-xxl\"]"
   ]
  },
  {
   "cell_type": "code",
   "execution_count": null,
   "id": "f2679b21-0be7-4765-96fe-d14cd88a00b7",
   "metadata": {},
   "outputs": [],
   "source": [
    "fig, ax = plt.subplots(1, 4, figsize=(10, 3), width_ratios = [1,1, 1,1])\n",
    "fig.tight_layout()\n",
    "\n",
    "\n",
    "\n",
    "cm_gpt4.plot(ax=ax[1], colorbar=False, cmap = 'Blues', values_format = '.2f')\n",
    "cm_flan.plot(ax=ax[2], colorbar=False,cmap = 'Blues', values_format = '.2f')\n",
    "cm_llama2.plot(ax=ax[3], colorbar= False,cmap = 'Blues', values_format = '.2f')\n",
    "\n",
    "ax[0].barh(model_labels, f1s , label = model_labels)\n",
    "ax[0].set_xlabel(\"F1\", loc = 'center')\n",
    "\n",
    "ax[1].set_title(\"GPT-4\")\n",
    "ax[1].set_xlabel(\"\")\n",
    "ax[1].set_yticklabels(['Neg.','Pos.','Neu.'])\n",
    "ax[1].set_xticklabels(['Neg.','Pos.','Neu.'])\n",
    "\n",
    "\n",
    "ax[2].set_title(\"Flan-T5-xxl\")\n",
    "ax[2].set_ylabel(\"\")\n",
    "ax[2].set_yticklabels(['Neg.','Pos.','Neu.'])\n",
    "\n",
    "ax[2].set_xticklabels(['Neg.','Pos.','Neu.'])\n",
    "\n",
    "ax[3].set_title(\"Llama-2-13B\")\n",
    "ax[3].set_ylabel(\"\")\n",
    "ax[3].set_xlabel(\"\")\n",
    "ax[3].set_yticklabels(['Neg.','Pos.','Neu.'])\n",
    "\n",
    "ax[3].set_xticklabels(['Neg.','Pos.','Neu.'])\n",
    "\n",
    "\n",
    "fig.savefig(\"sentiment.pdf\", bbox_inches='tight') \n"
   ]
  },
  {
   "cell_type": "code",
   "execution_count": null,
   "id": "78e58d57-7500-4c45-9969-01dd126bc5e0",
   "metadata": {},
   "outputs": [],
   "source": []
  },
  {
   "cell_type": "code",
   "execution_count": null,
   "id": "9c3de3e6-354b-4537-8100-d7bf2eee34b1",
   "metadata": {},
   "outputs": [],
   "source": [
    "df_segment_error = df_results.loc[(df_results['tokenizer'] == 'google/flan-t5-xxl') & (df_results['neg_correct'] == 'Incorrect')]"
   ]
  },
  {
   "cell_type": "code",
   "execution_count": null,
   "id": "7af3c923-9d8c-4c9b-8104-f533ee2883cd",
   "metadata": {},
   "outputs": [],
   "source": [
    "df_segment_error"
   ]
  },
  {
   "cell_type": "code",
   "execution_count": null,
   "id": "ff55a5dd-db8e-4edb-8468-5622449da27e",
   "metadata": {},
   "outputs": [],
   "source": [
    "df_error = df_results.loc[(df_results['tokenizer'] == 'google/flan-t5-xxl') & (df_results['neg_correct'] == 'Incorrect') & (df_results['Predict'] == 1)]"
   ]
  },
  {
   "cell_type": "code",
   "execution_count": null,
   "id": "a4ba602a-b27f-40f4-a5ca-a8634d4034c2",
   "metadata": {},
   "outputs": [],
   "source": [
    "df_error.head(60)"
   ]
  },
  {
   "cell_type": "code",
   "execution_count": null,
   "id": "fba17122-3fff-47b8-88f9-1ebae87a309a",
   "metadata": {},
   "outputs": [],
   "source": []
  },
  {
   "cell_type": "code",
   "execution_count": null,
   "id": "94bfc4b9-82ed-4c8f-862d-8b1a4cf1baa3",
   "metadata": {},
   "outputs": [],
   "source": [
    "golds = list(gpt4_pred['gold']) \n",
    "for i, pred in flan_pred.iterrows():\n",
    "    if golds[i] == 1:\n",
    "        if pred['pred'] != golds[i]:\n",
    "            print(pred['word'])"
   ]
  },
  {
   "cell_type": "code",
   "execution_count": null,
   "id": "2fe73283-ba2f-42ce-9f53-22245e3da4ce",
   "metadata": {},
   "outputs": [],
   "source": [
    "flan_pred"
   ]
  },
  {
   "cell_type": "code",
   "execution_count": null,
   "id": "3b8bcfb7-b7d4-4bd0-a18e-754cfd65aa72",
   "metadata": {},
   "outputs": [],
   "source": [
    "gpt4_pred"
   ]
  },
  {
   "cell_type": "code",
   "execution_count": null,
   "id": "54e642b1-3ed9-4510-992e-de82a15c71ef",
   "metadata": {},
   "outputs": [],
   "source": [
    "flan_pred['gold'] = gpt4_pred['gold']"
   ]
  },
  {
   "cell_type": "code",
   "execution_count": null,
   "id": "20779af1-609c-4a3b-8afa-df22f9453f60",
   "metadata": {},
   "outputs": [],
   "source": [
    "flan_error = flan_pred[flan_pred['gold'] != flan_pred['pred']]"
   ]
  },
  {
   "cell_type": "code",
   "execution_count": null,
   "id": "9b6a868e-9dc8-4227-8735-1dc5fd615d49",
   "metadata": {},
   "outputs": [],
   "source": [
    "flan_error.to_csv('flan_affixpolarity_error.csv', index = False)"
   ]
  },
  {
   "cell_type": "code",
   "execution_count": null,
   "id": "6fcede68-b90c-4d18-83a9-8ddd059d1838",
   "metadata": {},
   "outputs": [],
   "source": []
  },
  {
   "cell_type": "code",
   "execution_count": null,
   "id": "35227aca-e0ac-47d4-832a-115e453a4426",
   "metadata": {},
   "outputs": [],
   "source": [
    "gpt4_pred_zero = pd.read_csv('gpt4_zero_pred.csv')\n",
    "flan_pred_zero = pd.read_csv('flant5_zero_pred.csv')\n",
    "llama_pred_zero = pd.read_csv('llama2_zero_pred.csv')"
   ]
  },
  {
   "cell_type": "code",
   "execution_count": null,
   "id": "2638b5e5-1935-47ea-8a8f-3a28a1904f4a",
   "metadata": {},
   "outputs": [],
   "source": [
    "gpt4_pred_fewshot = pd.read_csv('gpt4_pred.csv')\n",
    "flan_pred_fewshot = pd.read_csv('flant5_pred.csv')\n",
    "llama_pred_fewshot = pd.read_csv('llama2_pred.csv')"
   ]
  },
  {
   "cell_type": "code",
   "execution_count": null,
   "id": "debc4123-0c5a-467b-a528-9f875685eb99",
   "metadata": {},
   "outputs": [],
   "source": [
    "gpt4_pred_hyphen = pd.read_csv('gpt4_pred_hyphen.csv')\n",
    "flan_pred_hyphen = pd.read_csv('flant5_pred_hyphen.csv')\n",
    "llama_pred_hyphen = pd.read_csv('llama_pred_hyphen.csv')"
   ]
  },
  {
   "cell_type": "code",
   "execution_count": null,
   "id": "ab381c58-d448-4cef-ae32-08edd88601c5",
   "metadata": {},
   "outputs": [],
   "source": [
    "from sklearn.metrics import accuracy_score"
   ]
  },
  {
   "cell_type": "code",
   "execution_count": null,
   "id": "2869786e-6226-4e0e-bb04-874fcff44b7a",
   "metadata": {},
   "outputs": [],
   "source": [
    "gpt4_pred_zero = gpt4_pred_zero[gpt4_pred_zero['gold'] == 0]\n",
    "flan_pred_zero = flan_pred_zero[flan_pred_zero['gold'] == 0]\n",
    "llama_pred_zero = llama_pred_zero[llama_pred_zero['gold'] == 0]\n",
    "\n",
    "gpt4_pred_fewshot = gpt4_pred_fewshot[gpt4_pred_fewshot['gold'] == 0]\n",
    "flan_pred_fewshot = flan_pred_fewshot[flan_pred_fewshot['gold'] == 0]\n",
    "llama_pred_fewshot = llama_pred_fewshot[llama_pred_fewshot['gold'] == 0]\n",
    "\n",
    "gpt4_pred_hyphen = gpt4_pred_hyphen[gpt4_pred_hyphen['gold'] == 0]\n",
    "flan_pred_hyphen = flan_pred_hyphen[flan_pred_hyphen['gold'] == 0]\n",
    "llama_pred_hyphen = llama_pred_hyphen[llama_pred_hyphen['gold'] == 0]\n",
    "\n"
   ]
  },
  {
   "cell_type": "code",
   "execution_count": null,
   "id": "aeafcea9-1509-4395-a9b6-99a6a802f24b",
   "metadata": {},
   "outputs": [],
   "source": [
    "gpt4_pred_zero = gpt4_pred_zero[gpt4_pred_zero['gold'] == 1]\n",
    "flan_pred_zero = flan_pred_zero[flan_pred_zero['gold'] == 1]\n",
    "llama_pred_zero = llama_pred_zero[llama_pred_zero['gold'] == 1]\n",
    "\n",
    "gpt4_pred_fewshot = gpt4_pred_fewshot[gpt4_pred_fewshot['gold'] == 1]\n",
    "flan_pred_fewshot = flan_pred_fewshot[flan_pred_fewshot['gold'] == 1]\n",
    "llama_pred_fewshot = llama_pred_fewshot[llama_pred_fewshot['gold'] == 1]\n",
    "\n",
    "gpt4_pred_hyphen = gpt4_pred_hyphen[gpt4_pred_hyphen['gold'] == 1]\n",
    "flan_pred_hyphen = flan_pred_hyphen[flan_pred_hyphen['gold'] == 1]\n",
    "llama_pred_hyphen = llama_pred_hyphen[llama_pred_hyphen['gold'] == 1]\n",
    "\n"
   ]
  },
  {
   "cell_type": "code",
   "execution_count": null,
   "id": "43990c9e-37ea-4b53-9d3d-f3950ffab65b",
   "metadata": {},
   "outputs": [],
   "source": [
    "gpt4_zero_acc = accuracy_score(gpt4_pred_zero['gold'], gpt4_pred_zero['pred'])\n",
    "flan_zero_acc = accuracy_score(flan_pred_zero['gold'], flan_pred_zero['pred'])\n",
    "llama_zero_acc = accuracy_score(llama_pred_zero['gold'], llama_pred_zero['pred'])\n",
    "\n",
    "\n",
    "gpt4_few_acc = accuracy_score(gpt4_pred_fewshot['gold'], gpt4_pred_fewshot['pred'])\n",
    "flan_few_acc = accuracy_score(flan_pred_fewshot['gold'], flan_pred_fewshot['pred'])\n",
    "llama_few_acc = accuracy_score(llama_pred_fewshot['gold'], llama_pred_fewshot['pred'])\n",
    "\n",
    "\n",
    "\n",
    "gpt4_hyphen_acc = accuracy_score(gpt4_pred_hyphen['gold'], gpt4_pred_hyphen['pred'])\n",
    "flan_hyphen_acc = accuracy_score(flan_pred_hyphen['gold'], flan_pred_hyphen['pred'])\n",
    "llama_hyphen_acc = accuracy_score(llama_pred_hyphen['gold'], llama_pred_hyphen['pred'])\n"
   ]
  },
  {
   "cell_type": "code",
   "execution_count": null,
   "id": "33773515-40a7-42bd-9e2b-9fc373e65475",
   "metadata": {},
   "outputs": [],
   "source": [
    "gpt4_pred_hyphen[gpt4_pred_hyphen['pred'] != gpt4_pred_hyphen['gold']]"
   ]
  },
  {
   "cell_type": "code",
   "execution_count": null,
   "id": "10d0edb5-6c97-4332-9214-78c7546182d1",
   "metadata": {},
   "outputs": [],
   "source": [
    "rows = []\n",
    "\n",
    "row = {}\n",
    "row['model'] = 'GPT-4'\n",
    "row['prompt'] = 'Zero-shot'\n",
    "row['value'] = gpt4_zero_acc\n",
    "rows.append(row)\n",
    "\n",
    "row = {}\n",
    "row['model'] = 'Flan-T5-xxl'\n",
    "row['prompt'] = 'Zero-shot'\n",
    "row['value'] = flan_zero_acc\n",
    "rows.append(row)\n",
    "\n",
    "row = {}\n",
    "row['model'] = 'Llama-2-13B'\n",
    "row['prompt'] = 'Zero-shot'\n",
    "row['value'] = llama_zero_acc\n",
    "rows.append(row)\n"
   ]
  },
  {
   "cell_type": "code",
   "execution_count": null,
   "id": "b6496bef-6209-497f-b3e4-9b288d5d661c",
   "metadata": {},
   "outputs": [],
   "source": [
    "row = {}\n",
    "row['model'] = 'GPT-4'\n",
    "row['prompt'] = 'Few-shot'\n",
    "row['value'] = gpt4_few_acc\n",
    "rows.append(row)\n",
    "\n",
    "row = {}\n",
    "row['model'] = 'Flan-T5-xxl'\n",
    "row['prompt'] = 'Few-shot'\n",
    "row['value'] = flan_few_acc\n",
    "rows.append(row)\n",
    "\n",
    "row = {}\n",
    "row['model'] = 'Llama-2-13B'\n",
    "row['prompt'] = 'Few-shot'\n",
    "row['value'] = llama_few_acc\n",
    "rows.append(row)\n"
   ]
  },
  {
   "cell_type": "code",
   "execution_count": null,
   "id": "12d05440-db9b-42b3-b222-8dc7bee51b6b",
   "metadata": {},
   "outputs": [],
   "source": [
    "row = {}\n",
    "row['model'] = 'GPT-4'\n",
    "row['prompt'] = 'Few-shot Hyphen'\n",
    "row['value'] = 0.9157491622786021\n",
    "rows.append(row)\n",
    "\n",
    "row = {}\n",
    "row['model'] = 'Flan-T5-xxl'\n",
    "row['prompt'] = 'Few-shot Hyphen'\n",
    "row['value'] = flan_hyphen_acc\n",
    "rows.append(row)\n",
    "\n",
    "row = {}\n",
    "row['model'] = 'Llama-2-13B'\n",
    "row['prompt'] = 'Few-shot Hyphen'\n",
    "row['value'] = llama_hyphen_acc\n",
    "rows.append(row)\n"
   ]
  },
  {
   "cell_type": "code",
   "execution_count": null,
   "id": "5bcdb40f",
   "metadata": {},
   "outputs": [],
   "source": []
  },
  {
   "cell_type": "code",
   "execution_count": null,
   "id": "f5f0ddf8-b661-48d6-bbdb-421d58c3174e",
   "metadata": {},
   "outputs": [],
   "source": [
    "df_acc_non_neg = pd.DataFrame(data = rows)"
   ]
  },
  {
   "cell_type": "code",
   "execution_count": null,
   "id": "587b9ca5-8801-4d7c-80ba-35fd0d09cbff",
   "metadata": {},
   "outputs": [],
   "source": [
    "df_acc_non_neg"
   ]
  },
  {
   "cell_type": "code",
   "execution_count": null,
   "id": "ec54a9df-11e9-495f-ad46-07cd12a7e8a1",
   "metadata": {},
   "outputs": [],
   "source": [
    "df_acc_neg = pd.DataFrame(data = rows)"
   ]
  },
  {
   "cell_type": "code",
   "execution_count": null,
   "id": "67671234-5f0c-46e8-9b2e-edc7de4c9d51",
   "metadata": {},
   "outputs": [],
   "source": [
    "df_acc_neg"
   ]
  },
  {
   "cell_type": "code",
   "execution_count": null,
   "id": "feed980e-f1dc-4379-80d5-ced96b9982bc",
   "metadata": {},
   "outputs": [],
   "source": []
  },
  {
   "cell_type": "code",
   "execution_count": null,
   "id": "bd5e775f-ad57-4d18-932e-0e0c4dae5967",
   "metadata": {},
   "outputs": [],
   "source": [
    "gpt4_zero_negmorph = 0.671\n",
    "flan_zero_negmorph = 0.751\n",
    "llama_zero_negmorph = 0.658\n",
    "\n",
    "gpt4_few_negmorph = 0.671\n",
    "flan_few_negmorph = 0.751\n",
    "llama_few_negmorph = 0.658\n",
    "\n",
    "gpt4_hyphen_negmorph = 0.929\n",
    "flan_hyphen_negmorph = 0.968\n",
    "llama_hyphen_negmorph = 0.984\n"
   ]
  },
  {
   "cell_type": "code",
   "execution_count": null,
   "id": "29ef6fef-5e1c-4b61-ba72-9d190cfea130",
   "metadata": {},
   "outputs": [],
   "source": [
    "rows = []\n",
    "\n",
    "row = {}\n",
    "row['model'] = 'GPT-4'\n",
    "row['prompt'] = 'Zero-shot'\n",
    "row['value'] = gpt4_zero_negmorph\n",
    "rows.append(row)\n",
    "\n",
    "row = {}\n",
    "row['model'] = 'Flan-T5-xxl'\n",
    "row['prompt'] = 'Zero-shot'\n",
    "row['value'] = flan_zero_negmorph\n",
    "rows.append(row)\n",
    "\n",
    "row = {}\n",
    "row['model'] = 'Llama-2-13B'\n",
    "row['prompt'] = 'Zero-shot'\n",
    "row['value'] = llama_zero_negmorph\n",
    "rows.append(row)\n",
    "\n",
    "row = {}\n",
    "row['model'] = 'GPT-4'\n",
    "row['prompt'] = 'Few-shot'\n",
    "row['value'] = gpt4_few_negmorph\n",
    "rows.append(row)\n",
    "\n",
    "row = {}\n",
    "row['model'] = 'Flan-T5-xxl'\n",
    "row['prompt'] = 'Few-shot'\n",
    "row['value'] = flan_few_negmorph\n",
    "rows.append(row)\n",
    "\n",
    "row = {}\n",
    "row['model'] = 'Llama-2-13B'\n",
    "row['prompt'] = 'Few-shot'\n",
    "row['value'] = llama_few_negmorph\n",
    "rows.append(row)\n",
    "\n",
    "row = {}\n",
    "row['model'] = 'GPT-4'\n",
    "row['prompt'] = 'Few-shot Hyphen'\n",
    "row['value'] = gpt4_hyphen_negmorph\n",
    "rows.append(row)\n",
    "\n",
    "row = {}\n",
    "row['model'] = 'Flan-T5-xxl'\n",
    "row['prompt'] = 'Few-shot Hyphen'\n",
    "row['value'] = flan_hyphen_negmorph\n",
    "rows.append(row)\n",
    "\n",
    "row = {}\n",
    "row['model'] = 'Llama-2-13B'\n",
    "row['prompt'] = 'Few-shot Hyphen'\n",
    "row['value'] = llama_hyphen_negmorph\n",
    "rows.append(row)\n",
    "\n",
    "df_negmorph = pd.DataFrame(data = rows)"
   ]
  },
  {
   "cell_type": "code",
   "execution_count": null,
   "id": "ada6cc35-ea93-4c44-a934-d42fc21434e1",
   "metadata": {},
   "outputs": [],
   "source": [
    "df_negmorph"
   ]
  },
  {
   "cell_type": "code",
   "execution_count": null,
   "id": "e25aed5b-f9fa-4476-ac6f-df35f1a70844",
   "metadata": {},
   "outputs": [],
   "source": [
    "import matplotlib\n",
    "import matplotlib.pyplot as plt\n",
    "import seaborn as sns\n",
    "import matplotlib.patches as mpatches\n"
   ]
  },
  {
   "cell_type": "code",
   "execution_count": null,
   "id": "6bd9937d-60db-4352-a7d7-4b8879aac5e7",
   "metadata": {},
   "outputs": [],
   "source": [
    "color_cycle = ['#377eb8', '#ff7f00', '#4daf4a']"
   ]
  },
  {
   "cell_type": "code",
   "execution_count": null,
   "id": "47d9e9e3-e0eb-46eb-b437-2b75dea2d4d7",
   "metadata": {},
   "outputs": [],
   "source": [
    "color_cycle = sns.color_palette(\"Set2\")"
   ]
  },
  {
   "cell_type": "code",
   "execution_count": null,
   "id": "ba3d94e9",
   "metadata": {},
   "outputs": [],
   "source": [
    "df_acc = pd.DataFrame(data = rows)"
   ]
  },
  {
   "cell_type": "code",
   "execution_count": null,
   "id": "14d791e6",
   "metadata": {},
   "outputs": [],
   "source": [
    "df_acc"
   ]
  },
  {
   "cell_type": "code",
   "execution_count": null,
   "id": "7dc2200d-f693-4b25-97b8-b28f50ddb3b2",
   "metadata": {},
   "outputs": [],
   "source": [
    "fig, ax = plt.subplots(1, 1, figsize=(10, 5), width_ratios = [1])\n",
    "fig.tight_layout()\n",
    "# ax2 = ax1.twinx() # secondary y-axis\n",
    "# plt.figure(figsize=(15,16))\n",
    "\n",
    "g = sns.barplot(\n",
    "    data=df_acc,\n",
    "    x=\"prompt\", y=\"value\", hue=\"model\",\n",
    "    palette=color_cycle, alpha=1, ax = ax);\n",
    "g.set(ylim=(0.5, 1))\n",
    "# g._legend.remove()\n",
    "sns.pointplot(data = df_negmorph, x= 'prompt' ,y ='value',palette=color_cycle, hue = 'model', ax = ax)\n",
    "\n",
    "red_patch = mpatches.Patch(color=color_cycle[0], label='GPT-4')\n",
    "yellow_patch = mpatches.Patch(color=color_cycle[1], label='Flan-T5-xxl')\n",
    "green_patch = mpatches.Patch(color=color_cycle[2], label='Llama-2-13B')\n",
    "\n",
    "ax.legend(handles=[green_patch, yellow_patch,red_patch])\n",
    "ax.set_ylabel('Value')\n",
    "ax.set_xlabel('Prompt')\n",
    "\n",
    "plt.tight_layout()\n",
    "plt.show()\n",
    "fig.savefig('main_results.pdf', bbox_inches='tight')\n",
    "# g.despine(left=True)tg\n",
    "# g.set_axis_labels(\"\", \"Body mass (g)\")\n",
    "# g.legend.set_title(\"\")\n",
    "# ax2 = ax1.twinx()\n",
    "\n",
    "# sns.barplot(data = df, x='x_var', y='y_var_2', alpha=0.5, ax=ax2)\n"
   ]
  },
  {
   "cell_type": "code",
   "execution_count": null,
   "id": "b6a18514-17ca-4675-a32f-3c74657360fc",
   "metadata": {},
   "outputs": [],
   "source": [
    "# df_acc: model, type, value => group bar plot\n",
    "# df_negmorph: model, value => (averaged) pointplot\n",
    "# on the same plot\n"
   ]
  },
  {
   "cell_type": "code",
   "execution_count": null,
   "id": "6035ee40-2190-4baf-a56c-81cd836722d3",
   "metadata": {},
   "outputs": [],
   "source": [
    "df_acc_neg = df_acc_neg.loc[(df_acc_neg['prompt'] == 'Zero-shot') | (df_acc_neg['prompt'] == 'Few-shot')]"
   ]
  },
  {
   "cell_type": "code",
   "execution_count": null,
   "id": "a5cfe512-9d95-463c-a1d5-91fbeea48d89",
   "metadata": {},
   "outputs": [],
   "source": [
    "df_acc_neg"
   ]
  },
  {
   "cell_type": "code",
   "execution_count": null,
   "id": "c2a0181e",
   "metadata": {},
   "outputs": [],
   "source": [
    "df_acc_non_neg = df_acc_non_neg.loc[(df_acc_non_neg['prompt'] == 'Zero-shot') | (df_acc_non_neg['prompt'] == 'Few-shot')]"
   ]
  },
  {
   "cell_type": "code",
   "execution_count": null,
   "id": "d14d4923-3eaa-489d-b671-6fced73133ce",
   "metadata": {},
   "outputs": [],
   "source": [
    "sns.set(font_scale = 1.7)\n",
    "sns.set_style(\"ticks\")\n",
    "\n",
    "fig, ax = plt.subplots(1, 2, figsize=(10, 5), width_ratios = [1,1], sharey = True)\n",
    "fig.tight_layout()\n",
    "# ax2 = ax1.twinx() # secondary y-axis\n",
    "# plt.figure(figsize=(15,16))\n",
    "\n",
    "g = sns.barplot(\n",
    "    data=df_acc_neg,\n",
    "    x=\"prompt\", y=\"value\", hue=\"model\",\n",
    "    palette=color_cycle, alpha=1, ax = ax[0]);\n",
    "# g.set(ylim=(0.5, 1))\n",
    "\n",
    "g = sns.barplot(\n",
    "    data=df_acc_non_neg,\n",
    "    x=\"prompt\", y=\"value\", hue=\"model\",\n",
    "    palette=color_cycle, alpha=1, ax = ax[1]);\n",
    "g.set(ylim=(0.6, 1))\n",
    "\n",
    "\n",
    "\n",
    "\n",
    "# g._legend.remove()\n",
    "# sns.pointplot(data = df_negmorph, x= 'prompt' ,y ='value',palette=color_cycle, hue = 'model', ax = ax)\n",
    "\n",
    "red_patch = mpatches.Patch(color=color_cycle[0], label='GPT-4')\n",
    "yellow_patch = mpatches.Patch(color=color_cycle[1], label='Flan-T5-xxl')\n",
    "green_patch = mpatches.Patch(color=color_cycle[2], label='Llama-2-13B')\n",
    "\n",
    "ax[0].legend(handles=[green_patch, yellow_patch,red_patch])\n",
    "ax[1].get_legend().remove()\n",
    "\n",
    "\n",
    "ax[0].set_title('Neg' )\n",
    "ax[1].set_title('Non-neg' )\n",
    "\n",
    "ax[0].set_ylabel('Accuracy')\n",
    "ax[0].set_xlabel('')\n",
    "ax[1].set_xlabel('')\n",
    "ax[1].set_ylabel('')\n",
    "ax[0].spines[['right', 'top']].set_visible(False)\n",
    "ax[1].spines[['right', 'top']].set_visible(False)\n",
    "\n",
    "plt.tight_layout()\n",
    "plt.show()\n",
    "fig.savefig('accuracy.pdf', bbox_inches='tight')\n",
    "\n",
    "\n"
   ]
  },
  {
   "cell_type": "code",
   "execution_count": null,
   "id": "7ced2385-b14f-4a91-9f4f-380bc37c19a9",
   "metadata": {},
   "outputs": [],
   "source": [
    "df_acc_hyphen = df_acc_neg.loc[(df_acc_neg['prompt'] == 'Few-shot') | (df_acc_neg['prompt'] == 'Few-shot Hyphen')]"
   ]
  },
  {
   "cell_type": "code",
   "execution_count": null,
   "id": "7c3ab37a-db66-498c-bfd4-007515c07f27",
   "metadata": {},
   "outputs": [],
   "source": [
    "df_negmorph_hyphen = df_negmorph.loc[(df_negmorph['prompt'] == 'Few-shot') | (df_negmorph['prompt'] == 'Few-shot Hyphen')]"
   ]
  },
  {
   "cell_type": "code",
   "execution_count": null,
   "id": "74600f42-5e21-4405-89d8-8f4a5a778380",
   "metadata": {},
   "outputs": [],
   "source": [
    "import numpy as np"
   ]
  },
  {
   "cell_type": "code",
   "execution_count": null,
   "id": "71ffe8e7-c69d-41d8-8414-f5181757f23d",
   "metadata": {},
   "outputs": [],
   "source": [
    "sns.set(font_scale=1.2)\n",
    "sns.set_style(\"ticks\")\n",
    "fig, ax = plt.subplots(1, 1, figsize=(6, 4), width_ratios = [1])\n",
    "fig.tight_layout()\n",
    "# ax2 = ax1.twinx() # secondary y-axis\n",
    "# plt.figure(figsize=(15,16))\n",
    "\n",
    "g = sns.barplot(\n",
    "    data=df_acc_hyphen,\n",
    "    x=\"prompt\", y=\"value\", hue=\"model\",\n",
    "    palette=color_cycle, alpha=1, ax = ax, width=0.7)\n",
    "g.set(ylim=(0.6, 1))\n",
    "# g._legend.remove()\n",
    "sns.pointplot(data = df_negmorph_hyphen, x= 'prompt' ,y ='value',palette=color_cycle, hue = 'model', ax = ax)\n",
    "\n",
    "red_patch = mpatches.Patch(color=color_cycle[0], label='GPT-4')\n",
    "yellow_patch = mpatches.Patch(color=color_cycle[1], label='Flan-T5-xxl')\n",
    "green_patch = mpatches.Patch(color=color_cycle[2], label='Llama-2-13B')\n",
    "\n",
    "\n",
    "ax.legend(handles=[green_patch, yellow_patch,red_patch])\n",
    "\n",
    "# ax.legend(handles=[green_patch, yellow_patch,red_patch])\n",
    "ax.set_ylabel('Value')\n",
    "ax.set_title('Neg')\n",
    "ax.set_xlabel('')\n",
    "ax.set_yticks(np.arange(0.6,1.01,0.1))\n",
    "ax.spines[['right', 'top']].set_visible(False)\n",
    "\n",
    "plt.tight_layout()\n",
    "plt.show()\n",
    "fig.savefig('hyphen.pdf', bbox_inches='tight')\n",
    "# g.despine(left=True)tg\n",
    "# g.set_axis_labels(\"\", \"Body mass (g)\")\n",
    "# g.legend.set_title(\"\")\n",
    "# ax2 = ax1.twinx()\n",
    "\n",
    "# sns.barplot(data = df, x='x_var', y='y_var_2', alpha=0.5, ax=ax2)"
   ]
  },
  {
   "cell_type": "code",
   "execution_count": null,
   "id": "c8f7b591-015c-4e8c-a5b4-e9a0122e4d5a",
   "metadata": {},
   "outputs": [],
   "source": []
  }
 ],
 "metadata": {
  "kernelspec": {
   "display_name": "Python 3 (ipykernel)",
   "language": "python",
   "name": "python3"
  },
  "language_info": {
   "codemirror_mode": {
    "name": "ipython",
    "version": 3
   },
   "file_extension": ".py",
   "mimetype": "text/x-python",
   "name": "python",
   "nbconvert_exporter": "python",
   "pygments_lexer": "ipython3",
   "version": "3.10.11"
  }
 },
 "nbformat": 4,
 "nbformat_minor": 5
}
